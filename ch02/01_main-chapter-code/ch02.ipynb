{
 "cells": [
  {
   "cell_type": "markdown",
   "id": "d95f841a-63c9-41d4-aea1-496b3d2024dd",
   "metadata": {},
   "source": [
    "<table style=\"width:100%\">\n",
    "<tr>\n",
    "<td style=\"vertical-align:middle; text-align:left;\">\n",
    "<font size=\"2\">\n",
    "Supplementary code for the <a href=\"http://mng.bz/orYv\">Build a Large Language Model From Scratch</a> book by <a href=\"https://sebastianraschka.com\">Sebastian Raschka</a><br>\n",
    "<br>Code repository: <a href=\"https://github.com/rasbt/LLMs-from-scratch\">https://github.com/rasbt/LLMs-from-scratch</a>\n",
    "</font>\n",
    "</td>\n",
    "<td style=\"vertical-align:middle; text-align:left;\">\n",
    "<a href=\"http://mng.bz/orYv\"><img src=\"https://sebastianraschka.com/images/LLMs-from-scratch-images/cover-small.webp\" width=\"100px\"></a>\n",
    "</td>\n",
    "</tr>\n",
    "</table>\n"
   ]
  },
  {
   "cell_type": "markdown",
   "id": "25aa40e3-5109-433f-9153-f5770531fe94",
   "metadata": {},
   "source": [
    "# Chapter 2: Working with Text Data"
   ]
  },
  {
   "cell_type": "markdown",
   "id": "76d5d2c0-cba8-404e-9bf3-71a218cae3cf",
   "metadata": {},
   "source": [
    "Packages that are being used in this notebook:"
   ]
  },
  {
   "cell_type": "code",
   "execution_count": 21,
   "id": "4d1305cf-12d5-46fe-a2c9-36fb71c5b3d3",
   "metadata": {},
   "outputs": [
    {
     "name": "stdout",
     "output_type": "stream",
     "text": [
      "torch version: 2.5.0+cu124\n",
      "tiktoken version: 0.9.0\n"
     ]
    }
   ],
   "source": [
    "from importlib.metadata import version\n",
    "\n",
    "print(\"torch version:\", version(\"torch\"))\n",
    "print(\"tiktoken version:\", version(\"tiktoken\"))"
   ]
  },
  {
   "cell_type": "markdown",
   "id": "5a42fbfd-e3c2-43c2-bc12-f5f870a0b10a",
   "metadata": {},
   "source": [
    "- This chapter covers data preparation and sampling to get input data \"ready\" for the LLM"
   ]
  },
  {
   "cell_type": "markdown",
   "id": "628b2922-594d-4ff9-bd82-04f1ebdf41f5",
   "metadata": {},
   "source": [
    "<img src=\"https://sebastianraschka.com/images/LLMs-from-scratch-images/ch02_compressed/01.webp?timestamp=1\" width=\"500px\">"
   ]
  },
  {
   "cell_type": "markdown",
   "id": "2417139b-2357-44d2-bd67-23f5d7f52ae7",
   "metadata": {},
   "source": [
    "## 2.1 Understanding word embeddings"
   ]
  },
  {
   "cell_type": "markdown",
   "id": "0b6816ae-e927-43a9-b4dd-e47a9b0e1cf6",
   "metadata": {},
   "source": [
    "- No code in this section"
   ]
  },
  {
   "cell_type": "markdown",
   "id": "4f69dab7-a433-427a-9e5b-b981062d6296",
   "metadata": {},
   "source": [
    "- There are many forms of embeddings; we focus on text embeddings in this book"
   ]
  },
  {
   "cell_type": "markdown",
   "id": "ba08d16f-f237-4166-bf89-0e9fe703e7b4",
   "metadata": {},
   "source": [
    "<img src=\"https://sebastianraschka.com/images/LLMs-from-scratch-images/ch02_compressed/02.webp\" width=\"500px\">"
   ]
  },
  {
   "cell_type": "markdown",
   "id": "288c4faf-b93a-4616-9276-7a4aa4b5e9ba",
   "metadata": {},
   "source": [
    "- LLMs work with embeddings in high-dimensional spaces (i.e., thousands of dimensions)\n",
    "- Since we can't visualize such high-dimensional spaces (we humans think in 1, 2, or 3 dimensions), the figure below illustrates a 2-dimensional embedding space"
   ]
  },
  {
   "cell_type": "markdown",
   "id": "d6b80160-1f10-4aad-a85e-9c79444de9e6",
   "metadata": {},
   "source": [
    "<img src=\"https://sebastianraschka.com/images/LLMs-from-scratch-images/ch02_compressed/03.webp\" width=\"300px\">"
   ]
  },
  {
   "cell_type": "markdown",
   "id": "eddbb984-8d23-40c5-bbfa-c3c379e7eec3",
   "metadata": {},
   "source": [
    "## 2.2 Tokenizing text"
   ]
  },
  {
   "cell_type": "markdown",
   "id": "f9c90731-7dc9-4cd3-8c4a-488e33b48e80",
   "metadata": {},
   "source": [
    "- In this section, we tokenize text, which means breaking text into smaller units, such as individual words and punctuation characters"
   ]
  },
  {
   "cell_type": "markdown",
   "id": "09872fdb-9d4e-40c4-949d-52a01a43ec4b",
   "metadata": {},
   "source": [
    "<img src=\"https://sebastianraschka.com/images/LLMs-from-scratch-images/ch02_compressed/04.webp\" width=\"300px\">"
   ]
  },
  {
   "cell_type": "markdown",
   "id": "8cceaa18-833d-46b6-b211-b20c53902805",
   "metadata": {},
   "source": [
    "- Load raw text we want to work with\n",
    "- [The Verdict by Edith Wharton](https://en.wikisource.org/wiki/The_Verdict) is a public domain short story"
   ]
  },
  {
   "cell_type": "code",
   "execution_count": 22,
   "id": "40f9d9b1-6d32-485a-825a-a95392a86d79",
   "metadata": {},
   "outputs": [],
   "source": [
    "import os\n",
    "import urllib.request\n",
    "\n",
    "if not os.path.exists(\"the-verdict.txt\"):\n",
    "    url = (\"https://raw.githubusercontent.com/rasbt/\"\n",
    "           \"LLMs-from-scratch/main/ch02/01_main-chapter-code/\"\n",
    "           \"the-verdict.txt\")\n",
    "    file_path = \"the-verdict.txt\"\n",
    "    urllib.request.urlretrieve(url, file_path)"
   ]
  },
  {
   "cell_type": "markdown",
   "id": "56488f2c-a2b8-49f1-aaeb-461faad08dce",
   "metadata": {},
   "source": [
    "- (If you encounter an `ssl.SSLCertVerificationError` when executing the previous code cell, it might be due to using an outdated Python version; you can find [more information here on GitHub](https://github.com/rasbt/LLMs-from-scratch/pull/403))"
   ]
  },
  {
   "cell_type": "code",
   "execution_count": 23,
   "id": "8a769e87-470a-48b9-8bdb-12841b416198",
   "metadata": {},
   "outputs": [
    {
     "name": "stdout",
     "output_type": "stream",
     "text": [
      "Total number of character: 20479\n",
      "I HAD always thought Jack Gisburn rather a cheap genius--though a good fellow enough--so it was no \n"
     ]
    }
   ],
   "source": [
    "with open(\"the-verdict.txt\", \"r\", encoding=\"utf-8\") as f:\n",
    "    raw_text = f.read()\n",
    "    \n",
    "print(\"Total number of character:\", len(raw_text))\n",
    "print(raw_text[:99])"
   ]
  },
  {
   "cell_type": "markdown",
   "id": "9b971a46-ac03-4368-88ae-3f20279e8f4e",
   "metadata": {},
   "source": [
    "- The goal is to tokenize and embed this text for an LLM\n",
    "- Let's develop a simple tokenizer based on some simple sample text that we can then later apply to the text above\n",
    "- The following regular expression will split on whitespaces"
   ]
  },
  {
   "cell_type": "code",
   "execution_count": 24,
   "id": "737dd5b0-9dbb-4a97-9ae4-3482c8c04be7",
   "metadata": {},
   "outputs": [
    {
     "name": "stdout",
     "output_type": "stream",
     "text": [
      "['Hello,', ' ', 'world.', ' ', 'This,', ' ', 'is', ' ', 'a', ' ', 'test.']\n"
     ]
    }
   ],
   "source": [
    "import re\n",
    "\n",
    "text = \"Hello, world. This, is a test.\"\n",
    "result = re.split(r'(\\s)', text)\n",
    "print(result)"
   ]
  },
  {
   "cell_type": "markdown",
   "id": "a8c40c18-a9d5-4703-bf71-8261dbcc5ee3",
   "metadata": {},
   "source": [
    "- We don't only want to split on whitespaces but also commas and periods, so let's modify the regular expression to do that as well"
   ]
  },
  {
   "cell_type": "code",
   "execution_count": 25,
   "id": "ea02489d-01f9-4247-b7dd-a0d63f62ef07",
   "metadata": {},
   "outputs": [
    {
     "name": "stdout",
     "output_type": "stream",
     "text": [
      "['Hello', ',', '', ' ', 'world', '.', '', ' ', 'This', ',', '', ' ', 'is', ' ', 'a', ' ', 'test', '.', '']\n"
     ]
    }
   ],
   "source": [
    "result = re.split(r'([,.]|\\s)', text)\n",
    "\n",
    "print(result)"
   ]
  },
  {
   "cell_type": "markdown",
   "id": "461d0c86-e3af-4f87-8fae-594a9ca9b6ad",
   "metadata": {},
   "source": [
    "- As we can see, this creates empty strings, let's remove them"
   ]
  },
  {
   "cell_type": "code",
   "execution_count": 26,
   "id": "4d8a6fb7-2e62-4a12-ad06-ccb04f25fed7",
   "metadata": {},
   "outputs": [
    {
     "name": "stdout",
     "output_type": "stream",
     "text": [
      "['Hello', ',', 'world', '.', 'This', ',', 'is', 'a', 'test', '.']\n"
     ]
    }
   ],
   "source": [
    "# Strip whitespace from each item and then filter out any empty strings.\n",
    "result = [item for item in result if item.strip()]\n",
    "print(result)"
   ]
  },
  {
   "cell_type": "markdown",
   "id": "250e8694-181e-496f-895d-7cb7d92b5562",
   "metadata": {},
   "source": [
    "- This looks pretty good, but let's also handle other types of punctuation, such as periods, question marks, and so on"
   ]
  },
  {
   "cell_type": "code",
   "execution_count": 27,
   "id": "ed3a9467-04b4-49d9-96c5-b8042bcf8374",
   "metadata": {},
   "outputs": [
    {
     "name": "stdout",
     "output_type": "stream",
     "text": [
      "['Hello', ',', 'world', '.', 'Is', 'this', '--', 'a', 'test', '?']\n"
     ]
    }
   ],
   "source": [
    "text = \"Hello, world. Is this-- a test?\"\n",
    "\n",
    "result = re.split(r'([,.:;?_!\"()\\']|--|\\s)', text)\n",
    "result = [item.strip() for item in result if item.strip()]\n",
    "print(result)"
   ]
  },
  {
   "cell_type": "markdown",
   "id": "5bbea70b-c030-45d9-b09d-4318164c0bb4",
   "metadata": {},
   "source": [
    "- This is pretty good, and we are now ready to apply this tokenization to the raw text"
   ]
  },
  {
   "cell_type": "markdown",
   "id": "6cbe9330-b587-4262-be9f-497a84ec0e8a",
   "metadata": {},
   "source": [
    "<img src=\"https://sebastianraschka.com/images/LLMs-from-scratch-images/ch02_compressed/05.webp\" width=\"350px\">"
   ]
  },
  {
   "cell_type": "code",
   "execution_count": 28,
   "id": "8c567caa-8ff5-49a8-a5cc-d365b0a78a99",
   "metadata": {},
   "outputs": [
    {
     "name": "stdout",
     "output_type": "stream",
     "text": [
      "['I', ' ', 'HAD', ' ', 'always', ' ', 'thought', ' ', 'Jack', ' ', 'Gisburn', ' ', 'rather', ' ', 'a', ' ', 'cheap', ' ', 'genius', '--', 'though', ' ', 'a', ' ', 'good', ' ', 'fellow', ' ', 'enough', '--', 'so', ' ', 'it', ' ', 'was', ' ', 'no', ' ', 'great', ' ', 'surprise', ' ', 'to', ' ', 'me', ' ', 'to', ' ', 'hear', ' ', 'that', ',', '', ' ', 'in', ' ', 'the', ' ', 'height', ' ', 'of', ' ', 'his', ' ', 'glory', ',', '', ' ', 'he', ' ', 'had', ' ', 'dropped', ' ', 'his', ' ', 'painting', ',', '', ' ', 'married', ' ', 'a', ' ', 'rich', ' ', 'widow', ',', '', ' ', 'and', ' ', 'established', ' ', 'himself', ' ', 'in', ' ', 'a', ' ', 'villa', ' ', 'on', ' ', 'the', ' ', 'Riviera', '.', '', ' ', '', '(', 'Though', ' ', 'I', ' ', 'rather', ' ', 'thought', ' ', 'it', ' ', 'would', ' ', 'have', ' ', 'been', ' ', 'Rome', ' ', 'or', ' ', 'Florence', '.', '', ')', '', '\\n', '', '\\n', '', '\"', 'The', ' ', 'height', ' ', 'of', ' ', 'his', ' ', 'glory', '\"', '', '--', 'that', ' ', 'was', ' ', 'what', ' ', 'the', ' ', 'women', ' ', 'called', ' ', 'it', '.', '', ' ', 'I', ' ', 'can', ' ', 'hear', ' ', 'Mrs', '.', '', ' ', 'Gideon', ' ', 'Thwing', '--', 'his', ' ', 'last', ' ', 'Chicago', ' ', 'sitter', '--', 'deploring', ' ', 'his', ' ', 'unaccountable', ' ', 'abdication', '.', '', ' ', '', '\"', 'Of', ' ', 'course', ' ', 'it', \"'\", 's', ' ', 'going', ' ', 'to', ' ', 'send', ' ', 'the', ' ', 'value', ' ', 'of', ' ', 'my', ' ', 'picture', ' ', '', \"'\", 'way', ' ', 'up', ';', '', ' ', 'but', ' ', 'I', ' ', 'don', \"'\", 't', ' ', 'think', ' ', 'of', ' ', 'that', ',', '', ' ', 'Mr', '.', '', ' ', 'Rickham', '--', 'the', ' ', 'loss', ' ', 'to', ' ', 'Arrt', ' ', 'is', ' ', 'all', ' ', 'I', ' ', 'think', ' ', 'of', '.', '', '\"', '', ' ', 'The', ' ', 'word', ',', '', ' ', 'on', ' ', 'Mrs', '.', '', ' ', 'Thwing', \"'\", 's', ' ', 'lips', ',', '', ' ', 'multiplied', ' ', 'its', ' ', '', '_', 'rs', '_', '', ' ', 'as', ' ', 'though', ' ', 'they', ' ', 'were', ' ', 'reflected', ' ', 'in', ' ', 'an', ' ', 'endless', ' ', 'vista', ' ', 'of', ' ', 'mirrors', '.', '', ' ', 'And', ' ', 'it', ' ', 'was', ' ', 'not', ' ', 'only', ' ', 'the', ' ', 'Mrs', '.', '', ' ', 'Thwings', ' ', 'who', ' ', 'mourned', '.', '', ' ', 'Had', ' ', 'not', ' ', 'the', ' ', 'exquisite', ' ', 'Hermia', ' ', 'Croft', ',', '', ' ', 'at', ' ', 'the', ' ', 'last', ' ', 'Grafton', ' ', 'Gallery', ' ', 'show', ',', '', ' ', 'stopped', ' ', 'me', ' ', 'before', ' ', 'Gisburn', \"'\", 's', ' ', '', '\"', 'Moon-dancers', '\"', '', ' ', 'to', ' ', 'say', ',', '', ' ', 'with', ' ', 'tears', ' ', 'in', ' ', 'her', ' ', 'eyes', ':', '', ' ', '', '\"', 'We', ' ', 'shall', ' ', 'not', ' ', 'look', ' ', 'upon', ' ', 'its', ' ', 'like', ' ', 'again', '\"', '', '?', '', '\\n', '', '\\n', 'Well', '!', '', '--', 'even', ' ', 'through', ' ', 'the', ' ', 'prism', ' ', 'of', ' ', 'Hermia', \"'\", 's', ' ', 'tears', ' ', 'I', ' ', 'felt', ' ', 'able', ' ', 'to', ' ', 'face', ' ', 'the', ' ', 'fact', ' ', 'with', ' ', 'equanimity', '.', '', ' ', 'Poor', ' ', 'Jack', ' ', 'Gisburn', '!', '', ' ', 'The', ' ', 'women', ' ', 'had', ' ', 'made', ' ', 'him', '--', 'it', ' ', 'was', ' ', 'fitting', ' ', 'that', ' ', 'they', ' ', 'should', ' ', 'mourn', ' ', 'him', '.', '', ' ', 'Among', ' ', 'his', ' ', 'own', ' ', 'sex', ' ', 'fewer', ' ', 'regrets', ' ', 'were', ' ', 'heard', ',', '', ' ', 'and', ' ', 'in', ' ', 'his', ' ', 'own', ' ', 'trade', ' ', 'hardly', ' ', 'a', ' ', 'murmur', '.', '', ' ', 'Professional', ' ', 'jealousy', '?', '', ' ', 'Perhaps', '.', '', ' ', 'If', ' ', 'it', ' ', 'were', ',', '', ' ', 'the', ' ', 'honour', ' ', 'of', ' ', 'the', ' ', 'craft', ' ', 'was', ' ', 'vindicated', ' ', 'by', ' ', 'little', ' ', 'Claude', ' ', 'Nutley', ',', '', ' ', 'who', ',', '', ' ', 'in', ' ', 'all', ' ', 'good', ' ', 'faith', ',', '', ' ', 'brought', ' ', 'out', ' ', 'in', ' ', 'the', ' ', 'Burlington', ' ', 'a', ' ', 'very', ' ', 'handsome', ' ', '', '\"', 'obituary', '\"', '', ' ', 'on', ' ', 'Jack', '--', 'one', ' ', 'of', ' ', 'those', ' ', 'showy', ' ', 'articles', ' ', 'stocked', ' ', 'with', ' ', 'random', ' ', 'technicalities', ' ', 'that', ' ', 'I', ' ', 'have', ' ', 'heard', ' ', '', '(', 'I', ' ', 'won', \"'\", 't', ' ', 'say', ' ', 'by', ' ', 'whom', ')', '', ' ', 'compared', ' ', 'to', ' ', 'Gisburn', \"'\", 's', ' ', 'painting', '.', '', ' ', 'And', ' ', 'so', '--', 'his', ' ', 'resolve', ' ', 'being', ' ', 'apparently', ' ', 'irrevocable', '--', 'the', ' ', 'discussion', ' ', 'gradually', ' ', 'died', ' ', 'out', ',', '', ' ', 'and', ',', '', ' ', 'as', ' ', 'Mrs', '.', '', ' ', 'Thwing', ' ', 'had', ' ', 'predicted', ',', '', ' ', 'the', ' ', 'price', ' ', 'of', ' ', '', '\"', 'Gisburns', '\"', '', ' ', 'went', ' ', 'up', '.', '', '\\n', '', '\\n', 'It', ' ', 'was', ' ', 'not', ' ', 'till', ' ', 'three', ' ', 'years', ' ', 'later', ' ', 'that', ',', '', ' ', 'in', ' ', 'the', ' ', 'course', ' ', 'of', ' ', 'a', ' ', 'few', ' ', 'weeks', \"'\", '', ' ', 'idling', ' ', 'on', ' ', 'the', ' ', 'Riviera', ',', '', ' ', 'it', ' ', 'suddenly', ' ', 'occurred', ' ', 'to', ' ', 'me', ' ', 'to', ' ', 'wonder', ' ', 'why', ' ', 'Gisburn', ' ', 'had', ' ', 'given', ' ', 'up', ' ', 'his', ' ', 'painting', '.', '', ' ', 'On', ' ', 'reflection', ',', '', ' ', 'it', ' ', 'really', ' ', 'was', ' ', 'a', ' ', 'tempting', ' ', 'problem', '.', '', ' ', 'To', ' ', 'accuse', ' ', 'his', ' ', 'wife', ' ', 'would', ' ', 'have', ' ', 'been', ' ', 'too', ' ', 'easy', '--', 'his', ' ', 'fair', ' ', 'sitters', ' ', 'had', ' ', 'been', ' ', 'denied', ' ', 'the', ' ', 'solace', ' ', 'of', ' ', 'saying', ' ', 'that', ' ', 'Mrs', '.', '', ' ', 'Gisburn', ' ', 'had', ' ', '', '\"', 'dragged', ' ', 'him', ' ', 'down', '.', '', '\"', '', ' ', 'For', ' ', 'Mrs', '.', '', ' ', 'Gisburn', '--', 'as', ' ', 'such', '--', 'had', ' ', 'not', ' ', 'existed', ' ', 'till', ' ', 'nearly', ' ', 'a', ' ', 'year', ' ', 'after', ' ', 'Jack', \"'\", 's', ' ', 'resolve', ' ', 'had', ' ', 'been', ' ', 'taken', '.', '', ' ', 'It', ' ', 'might', ' ', 'be', ' ', 'that', ' ', 'he', ' ', 'had', ' ', 'married', ' ', 'her', '--', 'since', ' ', 'he', ' ', 'liked', ' ', 'his', ' ', 'ease', '--', 'because', ' ', 'he', ' ', 'didn', \"'\", 't', ' ', 'want', ' ', 'to', ' ', 'go', ' ', 'on', ' ', 'painting', ';', '', ' ', 'but', ' ', 'it', ' ', 'would', ' ', 'have', ' ', 'been', ' ', 'hard', ' ', 'to', ' ', 'prove', ' ', 'that', ' ', 'he', ' ', 'had', ' ', 'given', ' ', 'up', ' ', 'his', ' ', 'painting', ' ', 'because', ' ', 'he', ' ', 'had', ' ', 'married', ' ', 'her', '.', '', '\\n', '', '\\n', 'Of', ' ', 'course', ',', '', ' ', 'if', ' ', 'she', ' ', 'had', ' ', 'not', ' ', 'dragged', ' ', 'him', ' ', 'down', ',', '', ' ', 'she', ' ', 'had', ' ', 'equally', ',', '', ' ', 'as', ' ', 'Miss', ' ', 'Croft', ' ', 'contended', ',', '', ' ', 'failed', ' ', 'to', ' ', '', '\"', 'lift', ' ', 'him', ' ', 'up', '\"', '', '--', 'she', ' ', 'had', ' ', 'not', ' ', 'led', ' ', 'him', ' ', 'back', ' ', 'to', ' ', 'the', ' ', 'easel', '.', '', ' ', 'To', ' ', 'put', ' ', 'the', ' ', 'brush', ' ', 'into', ' ', 'his', ' ', 'hand', ' ', 'again', '--', 'what', ' ', 'a', ' ', 'vocation', ' ', 'for', ' ', 'a', ' ', 'wife', '!', '', ' ', 'But', ' ', 'Mrs', '.', '', ' ', 'Gisburn', ' ', 'appeared', ' ', 'to', ' ', 'have', ' ', 'disdained', ' ', 'it', '--', 'and', ' ', 'I', ' ', 'felt', ' ', 'it', ' ', 'might', ' ', 'be', ' ', 'interesting', ' ', 'to', ' ', 'find', ' ', 'out', ' ', 'why', '.', '', '\\n', '', '\\n', 'The', ' ', 'desultory', ' ', 'life', ' ', 'of', ' ', 'the', ' ', 'Riviera', ' ', 'lends', ' ', 'itself', ' ', 'to', ' ', 'such', ' ', 'purely', ' ', 'academic', ' ', 'speculations', ';', '', ' ', 'and', ' ', 'having', ',', '', ' ', 'on', ' ', 'my', ' ', 'way', ' ', 'to', ' ', 'Monte', ' ', 'Carlo', ',', '', ' ', 'caught', ' ', 'a', ' ', 'glimpse', ' ', 'of', ' ', 'Jack', \"'\", 's', ' ', 'balustraded', ' ', 'terraces', ' ', 'between', ' ', 'the', ' ', 'pines', ',', '', ' ', 'I', ' ', 'had', ' ', 'myself', ' ', 'borne', ' ', 'thither', ' ', 'the', ' ', 'next', ' ', 'day', '.', '', '\\n', '', '\\n', 'I', ' ', 'found', ' ', 'the', ' ', 'couple', ' ', 'at', ' ', 'tea', ' ', 'beneath', ' ', 'their', ' ', 'palm-trees', ';', '', ' ', 'and', ' ', 'Mrs', '.', '', ' ', 'Gisburn', \"'\", 's', ' ', 'welcome', ' ', 'was', ' ', 'so', ' ', 'genial', ' ', 'that', ',', '', ' ', 'in', ' ', 'the', ' ', 'ensuing', ' ', 'weeks', ',', '', ' ', 'I', ' ', 'claimed', ' ', 'it', ' ', 'frequently', '.', '', ' ', 'It', ' ', 'was', ' ', 'not', ' ', 'that', ' ', 'my', ' ', 'hostess', ' ', 'was', ' ', '', '\"', 'interesting', '\"', '', ':', '', ' ', 'on', ' ', 'that', ' ', 'point', ' ', 'I', ' ', 'could', ' ', 'have', ' ', 'given', ' ', 'Miss', ' ', 'Croft', ' ', 'the', ' ', 'fullest', ' ', 'reassurance', '.', '', ' ', 'It', ' ', 'was', ' ', 'just', ' ', 'because', ' ', 'she', ' ', 'was', ' ', '', '_', 'not', '_', '', ' ', 'interesting', '--', 'if', ' ', 'I', ' ', 'may', ' ', 'be', ' ', 'pardoned', ' ', 'the', ' ', 'bull', '--', 'that', ' ', 'I', ' ', 'found', ' ', 'her', ' ', 'so', '.', '', ' ', 'For', ' ', 'Jack', ',', '', ' ', 'all', ' ', 'his', ' ', 'life', ',', '', ' ', 'had', ' ', 'been', ' ', 'surrounded', ' ', 'by', ' ', 'interesting', ' ', 'women', ':', '', ' ', 'they', ' ', 'had', ' ', 'fostered', ' ', 'his', ' ', 'art', ',', '', ' ', 'it', ' ', 'had', ' ', 'been', ' ', 'reared', ' ', 'in', ' ', 'the', ' ', 'hot-house', ' ', 'of', ' ', 'their', ' ', 'adulation', '.', '', ' ', 'And', ' ', 'it', ' ', 'was', ' ', 'therefore', ' ', 'instructive', ' ', 'to', ' ', 'note', ' ', 'what', ' ', 'effect', ' ', 'the', ' ', '', '\"', 'deadening', ' ', 'atmosphere', ' ', 'of', ' ', 'mediocrity', '\"', '', ' ', '', '(', 'I', ' ', 'quote', ' ', 'Miss', ' ', 'Croft', ')', '', ' ', 'was', ' ', 'having', ' ', 'on', ' ', 'him', '.', '', '\\n', '', '\\n', 'I', ' ', 'have', ' ', 'mentioned', ' ', 'that', ' ', 'Mrs', '.', '', ' ', 'Gisburn', ' ', 'was', ' ', 'rich', ';', '', ' ', 'and', ' ', 'it', ' ', 'was', ' ', 'immediately', ' ', 'perceptible', ' ', 'that', ' ', 'her', ' ', 'husband', ' ', 'was', ' ', 'extracting', ' ', 'from', ' ', 'this', ' ', 'circumstance', ' ', 'a', ' ', 'delicate', ' ', 'but', ' ', 'substantial', ' ', 'satisfaction', '.', '', ' ', 'It', ' ', 'is', ',', '', ' ', 'as', ' ', 'a', ' ', 'rule', ',', '', ' ', 'the', ' ', 'people', ' ', 'who', ' ', 'scorn', ' ', 'money', ' ', 'who', ' ', 'get', ' ', 'most', ' ', 'out', ' ', 'of', ' ', 'it', ';', '', ' ', 'and', ' ', 'Jack', \"'\", 's', ' ', 'elegant', ' ', 'disdain', ' ', 'of', ' ', 'his', ' ', 'wife', \"'\", 's', ' ', 'big', ' ', 'balance', ' ', 'enabled', ' ', 'him', ',', '', ' ', 'with', ' ', 'an', ' ', 'appearance', ' ', 'of', ' ', 'perfect', ' ', 'good-breeding', ',', '', ' ', 'to', ' ', 'transmute', ' ', 'it', ' ', 'into', ' ', 'objects', ' ', 'of', ' ', 'art', ' ', 'and', ' ', 'luxury', '.', '', ' ', 'To', ' ', 'the', ' ', 'latter', ',', '', ' ', 'I', ' ', 'must', ' ', 'add', ',', '', ' ', 'he', ' ', 'remained', ' ', 'relatively', ' ', 'indifferent', ';', '', ' ', 'but', ' ', 'he', ' ', 'was', ' ', 'buying', ' ', 'Renaissance', ' ', 'bronzes', ' ', 'and', ' ', 'eighteenth-century', ' ', 'pictures', ' ', 'with', ' ', 'a', ' ', 'discrimination', ' ', 'that', ' ', 'bespoke', ' ', 'the', ' ', 'amplest', ' ', 'resources', '.', '', '\\n', '', '\\n', '', '\"', 'Money', \"'\", 's', ' ', 'only', ' ', 'excuse', ' ', 'is', ' ', 'to', ' ', 'put', ' ', 'beauty', ' ', 'into', ' ', 'circulation', ',', '', '\"', '', ' ', 'was', ' ', 'one', ' ', 'of', ' ', 'the', ' ', 'axioms', ' ', 'he', ' ', 'laid', ' ', 'down', ' ', 'across', ' ', 'the', ' ', 'Sevres', ' ', 'and', ' ', 'silver', ' ', 'of', ' ', 'an', ' ', 'exquisitely', ' ', 'appointed', ' ', 'luncheon-table', ',', '', ' ', 'when', ',', '', ' ', 'on', ' ', 'a', ' ', 'later', ' ', 'day', ',', '', ' ', 'I', ' ', 'had', ' ', 'again', ' ', 'run', ' ', 'over', ' ', 'from', ' ', 'Monte', ' ', 'Carlo', ';', '', ' ', 'and', ' ', 'Mrs', '.', '', ' ', 'Gisburn', ',', '', ' ', 'beaming', ' ', 'on', ' ', 'him', ',', '', ' ', 'added', ' ', 'for', ' ', 'my', ' ', 'enlightenment', ':', '', ' ', '', '\"', 'Jack', ' ', 'is', ' ', 'so', ' ', 'morbidly', ' ', 'sensitive', ' ', 'to', ' ', 'every', ' ', 'form', ' ', 'of', ' ', 'beauty', '.', '', '\"', '', '\\n', '', '\\n', 'Poor', ' ', 'Jack', '!', '', ' ', 'It', ' ', 'had', ' ', 'always', ' ', 'been', ' ', 'his', ' ', 'fate', ' ', 'to', ' ', 'have', ' ', 'women', ' ', 'say', ' ', 'such', ' ', 'things', ' ', 'of', ' ', 'him', ':', '', ' ', 'the', ' ', 'fact', ' ', 'should', ' ', 'be', ' ', 'set', ' ', 'down', ' ', 'in', ' ', 'extenuation', '.', '', ' ', 'What', ' ', 'struck', ' ', 'me', ' ', 'now', ' ', 'was', ' ', 'that', ',', '', ' ', 'for', ' ', 'the', ' ', 'first', ' ', 'time', ',', '', ' ', 'he', ' ', 'resented', ' ', 'the', ' ', 'tone', '.', '', ' ', 'I', ' ', 'had', ' ', 'seen', ' ', 'him', ',', '', ' ', 'so', ' ', 'often', ',', '', ' ', 'basking', ' ', 'under', ' ', 'similar', ' ', 'tributes', '--', 'was', ' ', 'it', ' ', 'the', ' ', 'conjugal', ' ', 'note', ' ', 'that', ' ', 'robbed', ' ', 'them', ' ', 'of', ' ', 'their', ' ', 'savour', '?', '', ' ', 'No', '--', 'for', ',', '', ' ', 'oddly', ' ', 'enough', ',', '', ' ', 'it', ' ', 'became', ' ', 'apparent', ' ', 'that', ' ', 'he', ' ', 'was', ' ', 'fond', ' ', 'of', ' ', 'Mrs', '.', '', ' ', 'Gisburn', '--', 'fond', ' ', 'enough', ' ', 'not', ' ', 'to', ' ', 'see', ' ', 'her', ' ', 'absurdity', '.', '', ' ', 'It', ' ', 'was', ' ', 'his', ' ', 'own', ' ', 'absurdity', ' ', 'he', ' ', 'seemed', ' ', 'to', ' ', 'be', ' ', 'wincing', ' ', 'under', '--', 'his', ' ', 'own', ' ', 'attitude', ' ', 'as', ' ', 'an', ' ', 'object', ' ', 'for', ' ', 'garlands', ' ', 'and', ' ', 'incense', '.', '', '\\n', '', '\\n', '', '\"', 'My', ' ', 'dear', ',', '', ' ', 'since', ' ', 'I', \"'\", 've', ' ', 'chucked', ' ', 'painting', ' ', 'people', ' ', 'don', \"'\", 't', ' ', 'say', ' ', 'that', ' ', 'stuff', ' ', 'about', ' ', 'me', '--', 'they', ' ', 'say', ' ', 'it', ' ', 'about', ' ', 'Victor', ' ', 'Grindle', ',', '', '\"', '', ' ', 'was', ' ', 'his', ' ', 'only', ' ', 'protest', ',', '', ' ', 'as', ' ', 'he', ' ', 'rose', ' ', 'from', ' ', 'the', ' ', 'table', ' ', 'and', ' ', 'strolled', ' ', 'out', ' ', 'onto', ' ', 'the', ' ', 'sunlit', ' ', 'terrace', '.', '', '\\n', '', '\\n', 'I', ' ', 'glanced', ' ', 'after', ' ', 'him', ',', '', ' ', 'struck', ' ', 'by', ' ', 'his', ' ', 'last', ' ', 'word', '.', '', ' ', 'Victor', ' ', 'Grindle', ' ', 'was', ',', '', ' ', 'in', ' ', 'fact', ',', '', ' ', 'becoming', ' ', 'the', ' ', 'man', ' ', 'of', ' ', 'the', ' ', 'moment', '--', 'as', ' ', 'Jack', ' ', 'himself', ',', '', ' ', 'one', ' ', 'might', ' ', 'put', ' ', 'it', ',', '', ' ', 'had', ' ', 'been', ' ', 'the', ' ', 'man', ' ', 'of', ' ', 'the', ' ', 'hour', '.', '', ' ', 'The', ' ', 'younger', ' ', 'artist', ' ', 'was', ' ', 'said', ' ', 'to', ' ', 'have', ' ', 'formed', ' ', 'himself', ' ', 'at', ' ', 'my', ' ', 'friend', \"'\", 's', ' ', 'feet', ',', '', ' ', 'and', ' ', 'I', ' ', 'wondered', ' ', 'if', ' ', 'a', ' ', 'tinge', ' ', 'of', ' ', 'jealousy', ' ', 'underlay', ' ', 'the', ' ', 'latter', \"'\", 's', ' ', 'mysterious', ' ', 'abdication', '.', '', ' ', 'But', ' ', 'no', '--', 'for', ' ', 'it', ' ', 'was', ' ', 'not', ' ', 'till', ' ', 'after', ' ', 'that', ' ', 'event', ' ', 'that', ' ', 'the', ' ', '', '_', 'rose', ' ', 'Dubarry', '_', '', ' ', 'drawing-rooms', ' ', 'had', ' ', 'begun', ' ', 'to', ' ', 'display', ' ', 'their', ' ', '', '\"', 'Grindles', '.', '', '\"', '', '\\n', '', '\\n', 'I', ' ', 'turned', ' ', 'to', ' ', 'Mrs', '.', '', ' ', 'Gisburn', ',', '', ' ', 'who', ' ', 'had', ' ', 'lingered', ' ', 'to', ' ', 'give', ' ', 'a', ' ', 'lump', ' ', 'of', ' ', 'sugar', ' ', 'to', ' ', 'her', ' ', 'spaniel', ' ', 'in', ' ', 'the', ' ', 'dining-room', '.', '', '\\n', '', '\\n', '', '\"', 'Why', ' ', '', '_', 'has', '_', '', ' ', 'he', ' ', 'chucked', ' ', 'painting', '?', '', '\"', '', ' ', 'I', ' ', 'asked', ' ', 'abruptly', '.', '', '\\n', '', '\\n', 'She', ' ', 'raised', ' ', 'her', ' ', 'eyebrows', ' ', 'with', ' ', 'a', ' ', 'hint', ' ', 'of', ' ', 'good-humoured', ' ', 'surprise', '.', '', '\\n', '', '\\n', '', '\"', 'Oh', ',', '', ' ', 'he', ' ', 'doesn', \"'\", 't', ' ', '', '_', 'have', '_', '', ' ', 'to', ' ', 'now', ',', '', ' ', 'you', ' ', 'know', ';', '', ' ', 'and', ' ', 'I', ' ', 'want', ' ', 'him', ' ', 'to', ' ', 'enjoy', ' ', 'himself', ',', '', '\"', '', ' ', 'she', ' ', 'said', ' ', 'quite', ' ', 'simply', '.', '', '\\n', '', '\\n', 'I', ' ', 'looked', ' ', 'about', ' ', 'the', ' ', 'spacious', ' ', 'white-panelled', ' ', 'room', ',', '', ' ', 'with', ' ', 'its', ' ', '', '_', 'famille-verte', '_', '', ' ', 'vases', ' ', 'repeating', ' ', 'the', ' ', 'tones', ' ', 'of', ' ', 'the', ' ', 'pale', ' ', 'damask', ' ', 'curtains', ',', '', ' ', 'and', ' ', 'its', ' ', 'eighteenth-century', ' ', 'pastels', ' ', 'in', ' ', 'delicate', ' ', 'faded', ' ', 'frames', '.', '', '\\n', '', '\\n', '', '\"', 'Has', ' ', 'he', ' ', 'chucked', ' ', 'his', ' ', 'pictures', ' ', 'too', '?', '', ' ', 'I', ' ', 'haven', \"'\", 't', ' ', 'seen', ' ', 'a', ' ', 'single', ' ', 'one', ' ', 'in', ' ', 'the', ' ', 'house', '.', '', '\"', '', '\\n', '', '\\n', 'A', ' ', 'slight', ' ', 'shade', ' ', 'of', ' ', 'constraint', ' ', 'crossed', ' ', 'Mrs', '.', '', ' ', 'Gisburn', \"'\", 's', ' ', 'open', ' ', 'countenance', '.', '', ' ', '', '\"', 'It', \"'\", 's', ' ', 'his', ' ', 'ridiculous', ' ', 'modesty', ',', '', ' ', 'you', ' ', 'know', '.', '', ' ', 'He', ' ', 'says', ' ', 'they', \"'\", 're', ' ', 'not', ' ', 'fit', ' ', 'to', ' ', 'have', ' ', 'about', ';', '', ' ', 'he', \"'\", 's', ' ', 'sent', ' ', 'them', ' ', 'all', ' ', 'away', ' ', 'except', ' ', 'one', '--', 'my', ' ', 'portrait', '--', 'and', ' ', 'that', ' ', 'I', ' ', 'have', ' ', 'to', ' ', 'keep', ' ', 'upstairs', '.', '', '\"', '', '\\n', '', '\\n', 'His', ' ', 'ridiculous', ' ', 'modesty', '--', 'Jack', \"'\", 's', ' ', 'modesty', ' ', 'about', ' ', 'his', ' ', 'pictures', '?', '', ' ', 'My', ' ', 'curiosity', ' ', 'was', ' ', 'growing', ' ', 'like', ' ', 'the', ' ', 'bean-stalk', '.', '', ' ', 'I', ' ', 'said', ' ', 'persuasively', ' ', 'to', ' ', 'my', ' ', 'hostess', ':', '', ' ', '', '\"', 'I', ' ', 'must', ' ', 'really', ' ', 'see', ' ', 'your', ' ', 'portrait', ',', '', ' ', 'you', ' ', 'know', '.', '', '\"', '', '\\n', '', '\\n', 'She', ' ', 'glanced', ' ', 'out', ' ', 'almost', ' ', 'timorously', ' ', 'at', ' ', 'the', ' ', 'terrace', ' ', 'where', ' ', 'her', ' ', 'husband', ',', '', ' ', 'lounging', ' ', 'in', ' ', 'a', ' ', 'hooded', ' ', 'chair', ',', '', ' ', 'had', ' ', 'lit', ' ', 'a', ' ', 'cigar', ' ', 'and', ' ', 'drawn', ' ', 'the', ' ', 'Russian', ' ', 'deerhound', \"'\", 's', ' ', 'head', ' ', 'between', ' ', 'his', ' ', 'knees', '.', '', '\\n', '', '\\n', '', '\"', 'Well', ',', '', ' ', 'come', ' ', 'while', ' ', 'he', \"'\", 's', ' ', 'not', ' ', 'looking', ',', '', '\"', '', ' ', 'she', ' ', 'said', ',', '', ' ', 'with', ' ', 'a', ' ', 'laugh', ' ', 'that', ' ', 'tried', ' ', 'to', ' ', 'hide', ' ', 'her', ' ', 'nervousness', ';', '', ' ', 'and', ' ', 'I', ' ', 'followed', ' ', 'her', ' ', 'between', ' ', 'the', ' ', 'marble', ' ', 'Emperors', ' ', 'of', ' ', 'the', ' ', 'hall', ',', '', ' ', 'and', ' ', 'up', ' ', 'the', ' ', 'wide', ' ', 'stairs', ' ', 'with', ' ', 'terra-cotta', ' ', 'nymphs', ' ', 'poised', ' ', 'among', ' ', 'flowers', ' ', 'at', ' ', 'each', ' ', 'landing', '.', '', '\\n', '', '\\n', 'In', ' ', 'the', ' ', 'dimmest', ' ', 'corner', ' ', 'of', ' ', 'her', ' ', 'boudoir', ',', '', ' ', 'amid', ' ', 'a', ' ', 'profusion', ' ', 'of', ' ', 'delicate', ' ', 'and', ' ', 'distinguished', ' ', 'objects', ',', '', ' ', 'hung', ' ', 'one', ' ', 'of', ' ', 'the', ' ', 'familiar', ' ', 'oval', ' ', 'canvases', ',', '', ' ', 'in', ' ', 'the', ' ', 'inevitable', ' ', 'garlanded', ' ', 'frame', '.', '', ' ', 'The', ' ', 'mere', ' ', 'outline', ' ', 'of', ' ', 'the', ' ', 'frame', ' ', 'called', ' ', 'up', ' ', 'all', ' ', 'Gisburn', \"'\", 's', ' ', 'past', '!', '', '\\n', '', '\\n', 'Mrs', '.', '', ' ', 'Gisburn', ' ', 'drew', ' ', 'back', ' ', 'the', ' ', 'window-curtains', ',', '', ' ', 'moved', ' ', 'aside', ' ', 'a', ' ', '', '_', 'jardiniere', '_', '', ' ', 'full', ' ', 'of', ' ', 'pink', ' ', 'azaleas', ',', '', ' ', 'pushed', ' ', 'an', ' ', 'arm-chair', ' ', 'away', ',', '', ' ', 'and', ' ', 'said', ':', '', ' ', '', '\"', 'If', ' ', 'you', ' ', 'stand', ' ', 'here', ' ', 'you', ' ', 'can', ' ', 'just', ' ', 'manage', ' ', 'to', ' ', 'see', ' ', 'it', '.', '', ' ', 'I', ' ', 'had', ' ', 'it', ' ', 'over', ' ', 'the', ' ', 'mantel-piece', ',', '', ' ', 'but', ' ', 'he', ' ', 'wouldn', \"'\", 't', ' ', 'let', ' ', 'it', ' ', 'stay', '.', '', '\"', '', '\\n', '', '\\n', 'Yes', '--', 'I', ' ', 'could', ' ', 'just', ' ', 'manage', ' ', 'to', ' ', 'see', ' ', 'it', '--', 'the', ' ', 'first', ' ', 'portrait', ' ', 'of', ' ', 'Jack', \"'\", 's', ' ', 'I', ' ', 'had', ' ', 'ever', ' ', 'had', ' ', 'to', ' ', 'strain', ' ', 'my', ' ', 'eyes', ' ', 'over', '!', '', ' ', 'Usually', ' ', 'they', ' ', 'had', ' ', 'the', ' ', 'place', ' ', 'of', ' ', 'honour', '--', 'say', ' ', 'the', ' ', 'central', ' ', 'panel', ' ', 'in', ' ', 'a', ' ', 'pale', ' ', 'yellow', ' ', 'or', ' ', '', '_', 'rose', ' ', 'Dubarry', '_', '', ' ', 'drawing-room', ',', '', ' ', 'or', ' ', 'a', ' ', 'monumental', ' ', 'easel', ' ', 'placed', ' ', 'so', ' ', 'that', ' ', 'it', ' ', 'took', ' ', 'the', ' ', 'light', ' ', 'through', ' ', 'curtains', ' ', 'of', ' ', 'old', ' ', 'Venetian', ' ', 'point', '.', '', ' ', 'The', ' ', 'more', ' ', 'modest', ' ', 'place', ' ', 'became', ' ', 'the', ' ', 'picture', ' ', 'better', ';', '', ' ', 'yet', ',', '', ' ', 'as', ' ', 'my', ' ', 'eyes', ' ', 'grew', ' ', 'accustomed', ' ', 'to', ' ', 'the', ' ', 'half-light', ',', '', ' ', 'all', ' ', 'the', ' ', 'characteristic', ' ', 'qualities', ' ', 'came', ' ', 'out', '--', 'all', ' ', 'the', ' ', 'hesitations', ' ', 'disguised', ' ', 'as', ' ', 'audacities', ',', '', ' ', 'the', ' ', 'tricks', ' ', 'of', ' ', 'prestidigitation', ' ', 'by', ' ', 'which', ',', '', ' ', 'with', ' ', 'such', ' ', 'consummate', ' ', 'skill', ',', '', ' ', 'he', ' ', 'managed', ' ', 'to', ' ', 'divert', ' ', 'attention', ' ', 'from', ' ', 'the', ' ', 'real', ' ', 'business', ' ', 'of', ' ', 'the', ' ', 'picture', ' ', 'to', ' ', 'some', ' ', 'pretty', ' ', 'irrelevance', ' ', 'of', ' ', 'detail', '.', '', ' ', 'Mrs', '.', '', ' ', 'Gisburn', ',', '', ' ', 'presenting', ' ', 'a', ' ', 'neutral', ' ', 'surface', ' ', 'to', ' ', 'work', ' ', 'on', '--', 'forming', ',', '', ' ', 'as', ' ', 'it', ' ', 'were', ',', '', ' ', 'so', ' ', 'inevitably', ' ', 'the', ' ', 'background', ' ', 'of', ' ', 'her', ' ', 'own', ' ', 'picture', '--', 'had', ' ', 'lent', ' ', 'herself', ' ', 'in', ' ', 'an', ' ', 'unusual', ' ', 'degree', ' ', 'to', ' ', 'the', ' ', 'display', ' ', 'of', ' ', 'this', ' ', 'false', ' ', 'virtuosity', '.', '', ' ', 'The', ' ', 'picture', ' ', 'was', ' ', 'one', ' ', 'of', ' ', 'Jack', \"'\", 's', ' ', '', '\"', 'strongest', ',', '', '\"', '', ' ', 'as', ' ', 'his', ' ', 'admirers', ' ', 'would', ' ', 'have', ' ', 'put', ' ', 'it', '--', 'it', ' ', 'represented', ',', '', ' ', 'on', ' ', 'his', ' ', 'part', ',', '', ' ', 'a', ' ', 'swelling', ' ', 'of', ' ', 'muscles', ',', '', ' ', 'a', ' ', 'congesting', ' ', 'of', ' ', 'veins', ',', '', ' ', 'a', ' ', 'balancing', ',', '', ' ', 'straddling', ' ', 'and', ' ', 'straining', ',', '', ' ', 'that', ' ', 'reminded', ' ', 'one', ' ', 'of', ' ', 'the', ' ', 'circus-clown', \"'\", 's', ' ', 'ironic', ' ', 'efforts', ' ', 'to', ' ', 'lift', ' ', 'a', ' ', 'feather', '.', '', ' ', 'It', ' ', 'met', ',', '', ' ', 'in', ' ', 'short', ',', '', ' ', 'at', ' ', 'every', ' ', 'point', ' ', 'the', ' ', 'demand', ' ', 'of', ' ', 'lovely', ' ', 'woman', ' ', 'to', ' ', 'be', ' ', 'painted', ' ', '', '\"', 'strongly', '\"', '', ' ', 'because', ' ', 'she', ' ', 'was', ' ', 'tired', ' ', 'of', ' ', 'being', ' ', 'painted', ' ', '', '\"', 'sweetly', '\"', '', '--', 'and', ' ', 'yet', ' ', 'not', ' ', 'to', ' ', 'lose', ' ', 'an', ' ', 'atom', ' ', 'of', ' ', 'the', ' ', 'sweetness', '.', '', '\\n', '', '\\n', '', '\"', 'It', \"'\", 's', ' ', 'the', ' ', 'last', ' ', 'he', ' ', 'painted', ',', '', ' ', 'you', ' ', 'know', ',', '', '\"', '', ' ', 'Mrs', '.', '', ' ', 'Gisburn', ' ', 'said', ' ', 'with', ' ', 'pardonable', ' ', 'pride', '.', '', ' ', '', '\"', 'The', ' ', 'last', ' ', 'but', ' ', 'one', ',', '', '\"', '', ' ', 'she', ' ', 'corrected', ' ', 'herself', '--', '', '\"', 'but', ' ', 'the', ' ', 'other', ' ', 'doesn', \"'\", 't', ' ', 'count', ',', '', ' ', 'because', ' ', 'he', ' ', 'destroyed', ' ', 'it', '.', '', '\"', '', '\\n', '', '\\n', '', '\"', 'Destroyed', ' ', 'it', '?', '', '\"', '', ' ', 'I', ' ', 'was', ' ', 'about', ' ', 'to', ' ', 'follow', ' ', 'up', ' ', 'this', ' ', 'clue', ' ', 'when', ' ', 'I', ' ', 'heard', ' ', 'a', ' ', 'footstep', ' ', 'and', ' ', 'saw', ' ', 'Jack', ' ', 'himself', ' ', 'on', ' ', 'the', ' ', 'threshold', '.', '', '\\n', '', '\\n', 'As', ' ', 'he', ' ', 'stood', ' ', 'there', ',', '', ' ', 'his', ' ', 'hands', ' ', 'in', ' ', 'the', ' ', 'pockets', ' ', 'of', ' ', 'his', ' ', 'velveteen', ' ', 'coat', ',', '', ' ', 'the', ' ', 'thin', ' ', 'brown', ' ', 'waves', ' ', 'of', ' ', 'hair', ' ', 'pushed', ' ', 'back', ' ', 'from', ' ', 'his', ' ', 'white', ' ', 'forehead', ',', '', ' ', 'his', ' ', 'lean', ' ', 'sunburnt', ' ', 'cheeks', ' ', 'furrowed', ' ', 'by', ' ', 'a', ' ', 'smile', ' ', 'that', ' ', 'lifted', ' ', 'the', ' ', 'tips', ' ', 'of', ' ', 'a', ' ', 'self-confident', ' ', 'moustache', ',', '', ' ', 'I', ' ', 'felt', ' ', 'to', ' ', 'what', ' ', 'a', ' ', 'degree', ' ', 'he', ' ', 'had', ' ', 'the', ' ', 'same', ' ', 'quality', ' ', 'as', ' ', 'his', ' ', 'pictures', '--', 'the', ' ', 'quality', ' ', 'of', ' ', 'looking', ' ', 'cleverer', ' ', 'than', ' ', 'he', ' ', 'was', '.', '', '\\n', '', '\\n', 'His', ' ', 'wife', ' ', 'glanced', ' ', 'at', ' ', 'him', ' ', 'deprecatingly', ',', '', ' ', 'but', ' ', 'his', ' ', 'eyes', ' ', 'travelled', ' ', 'past', ' ', 'her', ' ', 'to', ' ', 'the', ' ', 'portrait', '.', '', '\\n', '', '\\n', '', '\"', 'Mr', '.', '', ' ', 'Rickham', ' ', 'wanted', ' ', 'to', ' ', 'see', ' ', 'it', ',', '', '\"', '', ' ', 'she', ' ', 'began', ',', '', ' ', 'as', ' ', 'if', ' ', 'excusing', ' ', 'herself', '.', '', ' ', 'He', ' ', 'shrugged', ' ', 'his', ' ', 'shoulders', ',', '', ' ', 'still', ' ', 'smiling', '.', '', '\\n', '', '\\n', '', '\"', 'Oh', ',', '', ' ', 'Rickham', ' ', 'found', ' ', 'me', ' ', 'out', ' ', 'long', ' ', 'ago', ',', '', '\"', '', ' ', 'he', ' ', 'said', ' ', 'lightly', ';', '', ' ', 'then', ',', '', ' ', 'passing', ' ', 'his', ' ', 'arm', ' ', 'through', ' ', 'mine', ':', '', ' ', '', '\"', 'Come', ' ', 'and', ' ', 'see', ' ', 'the', ' ', 'rest', ' ', 'of', ' ', 'the', ' ', 'house', '.', '', '\"', '', '\\n', '', '\\n', 'He', ' ', 'showed', ' ', 'it', ' ', 'to', ' ', 'me', ' ', 'with', ' ', 'a', ' ', 'kind', ' ', 'of', ' ', 'naive', ' ', 'suburban', ' ', 'pride', ':', '', ' ', 'the', ' ', 'bath-rooms', ',', '', ' ', 'the', ' ', 'speaking-tubes', ',', '', ' ', 'the', ' ', 'dress-closets', ',', '', ' ', 'the', ' ', 'trouser-presses', '--', 'all', ' ', 'the', ' ', 'complex', ' ', 'simplifications', ' ', 'of', ' ', 'the', ' ', 'millionaire', \"'\", 's', ' ', 'domestic', ' ', 'economy', '.', '', ' ', 'And', ' ', 'whenever', ' ', 'my', ' ', 'wonder', ' ', 'paid', ' ', 'the', ' ', 'expected', ' ', 'tribute', ' ', 'he', ' ', 'said', ',', '', ' ', 'throwing', ' ', 'out', ' ', 'his', ' ', 'chest', ' ', 'a', ' ', 'little', ':', '', ' ', '', '\"', 'Yes', ',', '', ' ', 'I', ' ', 'really', ' ', 'don', \"'\", 't', ' ', 'see', ' ', 'how', ' ', 'people', ' ', 'manage', ' ', 'to', ' ', 'live', ' ', 'without', ' ', 'that', '.', '', '\"', '', '\\n', '', '\\n', 'Well', '--', 'it', ' ', 'was', ' ', 'just', ' ', 'the', ' ', 'end', ' ', 'one', ' ', 'might', ' ', 'have', ' ', 'foreseen', ' ', 'for', ' ', 'him', '.', '', ' ', 'Only', ' ', 'he', ' ', 'was', ',', '', ' ', 'through', ' ', 'it', ' ', 'all', ' ', 'and', ' ', 'in', ' ', 'spite', ' ', 'of', ' ', 'it', ' ', 'all', '--', 'as', ' ', 'he', ' ', 'had', ' ', 'been', ' ', 'through', ',', '', ' ', 'and', ' ', 'in', ' ', 'spite', ' ', 'of', ',', '', ' ', 'his', ' ', 'pictures', '--', 'so', ' ', 'handsome', ',', '', ' ', 'so', ' ', 'charming', ',', '', ' ', 'so', ' ', 'disarming', ',', '', ' ', 'that', ' ', 'one', ' ', 'longed', ' ', 'to', ' ', 'cry', ' ', 'out', ':', '', ' ', '', '\"', 'Be', ' ', 'dissatisfied', ' ', 'with', ' ', 'your', ' ', 'leisure', '!', '', '\"', '', ' ', 'as', ' ', 'once', ' ', 'one', ' ', 'had', ' ', 'longed', ' ', 'to', ' ', 'say', ':', '', ' ', '', '\"', 'Be', ' ', 'dissatisfied', ' ', 'with', ' ', 'your', ' ', 'work', '!', '', '\"', '', '\\n', '', '\\n', 'But', ',', '', ' ', 'with', ' ', 'the', ' ', 'cry', ' ', 'on', ' ', 'my', ' ', 'lips', ',', '', ' ', 'my', ' ', 'diagnosis', ' ', 'suffered', ' ', 'an', ' ', 'unexpected', ' ', 'check', '.', '', '\\n', '', '\\n', '', '\"', 'This', ' ', 'is', ' ', 'my', ' ', 'own', ' ', 'lair', ',', '', '\"', '', ' ', 'he', ' ', 'said', ',', '', ' ', 'leading', ' ', 'me', ' ', 'into', ' ', 'a', ' ', 'dark', ' ', 'plain', ' ', 'room', ' ', 'at', ' ', 'the', ' ', 'end', ' ', 'of', ' ', 'the', ' ', 'florid', ' ', 'vista', '.', '', ' ', 'It', ' ', 'was', ' ', 'square', ' ', 'and', ' ', 'brown', ' ', 'and', ' ', 'leathery', ':', '', ' ', 'no', ' ', '', '\"', 'effects', '\"', '', ';', '', ' ', 'no', ' ', 'bric-a-brac', ',', '', ' ', 'none', ' ', 'of', ' ', 'the', ' ', 'air', ' ', 'of', ' ', 'posing', ' ', 'for', ' ', 'reproduction', ' ', 'in', ' ', 'a', ' ', 'picture', ' ', 'weekly', '--', 'above', ' ', 'all', ',', '', ' ', 'no', ' ', 'least', ' ', 'sign', ' ', 'of', ' ', 'ever', ' ', 'having', ' ', 'been', ' ', 'used', ' ', 'as', ' ', 'a', ' ', 'studio', '.', '', '\\n', '', '\\n', 'The', ' ', 'fact', ' ', 'brought', ' ', 'home', ' ', 'to', ' ', 'me', ' ', 'the', ' ', 'absolute', ' ', 'finality', ' ', 'of', ' ', 'Jack', \"'\", 's', ' ', 'break', ' ', 'with', ' ', 'his', ' ', 'old', ' ', 'life', '.', '', '\\n', '', '\\n', '', '\"', 'Don', \"'\", 't', ' ', 'you', ' ', 'ever', ' ', 'dabble', ' ', 'with', ' ', 'paint', ' ', 'any', ' ', 'more', '?', '', '\"', '', ' ', 'I', ' ', 'asked', ',', '', ' ', 'still', ' ', 'looking', ' ', 'about', ' ', 'for', ' ', 'a', ' ', 'trace', ' ', 'of', ' ', 'such', ' ', 'activity', '.', '', '\\n', '', '\\n', '', '\"', 'Never', ',', '', '\"', '', ' ', 'he', ' ', 'said', ' ', 'briefly', '.', '', '\\n', '', '\\n', '', '\"', 'Or', ' ', 'water-colour', '--', 'or', ' ', 'etching', '?', '', '\"', '', '\\n', '', '\\n', 'His', ' ', 'confident', ' ', 'eyes', ' ', 'grew', ' ', 'dim', ',', '', ' ', 'and', ' ', 'his', ' ', 'cheeks', ' ', 'paled', ' ', 'a', ' ', 'little', ' ', 'under', ' ', 'their', ' ', 'handsome', ' ', 'sunburn', '.', '', '\\n', '', '\\n', '', '\"', 'Never', ' ', 'think', ' ', 'of', ' ', 'it', ',', '', ' ', 'my', ' ', 'dear', ' ', 'fellow', '--', 'any', ' ', 'more', ' ', 'than', ' ', 'if', ' ', 'I', \"'\", 'd', ' ', 'never', ' ', 'touched', ' ', 'a', ' ', 'brush', '.', '', '\"', '', '\\n', '', '\\n', 'And', ' ', 'his', ' ', 'tone', ' ', 'told', ' ', 'me', ' ', 'in', ' ', 'a', ' ', 'flash', ' ', 'that', ' ', 'he', ' ', 'never', ' ', 'thought', ' ', 'of', ' ', 'anything', ' ', 'else', '.', '', '\\n', '', '\\n', 'I', ' ', 'moved', ' ', 'away', ',', '', ' ', 'instinctively', ' ', 'embarrassed', ' ', 'by', ' ', 'my', ' ', 'unexpected', ' ', 'discovery', ';', '', ' ', 'and', ' ', 'as', ' ', 'I', ' ', 'turned', ',', '', ' ', 'my', ' ', 'eye', ' ', 'fell', ' ', 'on', ' ', 'a', ' ', 'small', ' ', 'picture', ' ', 'above', ' ', 'the', ' ', 'mantel-piece', '--', 'the', ' ', 'only', ' ', 'object', ' ', 'breaking', ' ', 'the', ' ', 'plain', ' ', 'oak', ' ', 'panelling', ' ', 'of', ' ', 'the', ' ', 'room', '.', '', '\\n', '', '\\n', '', '\"', 'Oh', ',', '', ' ', 'by', ' ', 'Jove', '!', '', '\"', '', ' ', 'I', ' ', 'said', '.', '', '\\n', '', '\\n', 'It', ' ', 'was', ' ', 'a', ' ', 'sketch', ' ', 'of', ' ', 'a', ' ', 'donkey', '--', 'an', ' ', 'old', ' ', 'tired', ' ', 'donkey', ',', '', ' ', 'standing', ' ', 'in', ' ', 'the', ' ', 'rain', ' ', 'under', ' ', 'a', ' ', 'wall', '.', '', '\\n', '', '\\n', '', '\"', 'By', ' ', 'Jove', '--', 'a', ' ', 'Stroud', '!', '', '\"', '', ' ', 'I', ' ', 'cried', '.', '', '\\n', '', '\\n', 'He', ' ', 'was', ' ', 'silent', ';', '', ' ', 'but', ' ', 'I', ' ', 'felt', ' ', 'him', ' ', 'close', ' ', 'behind', ' ', 'me', ',', '', ' ', 'breathing', ' ', 'a', ' ', 'little', ' ', 'quickly', '.', '', '\\n', '', '\\n', '', '\"', 'What', ' ', 'a', ' ', 'wonder', '!', '', ' ', 'Made', ' ', 'with', ' ', 'a', ' ', 'dozen', ' ', 'lines', '--', 'but', ' ', 'on', ' ', 'everlasting', ' ', 'foundations', '.', '', ' ', 'You', ' ', 'lucky', ' ', 'chap', ',', '', ' ', 'where', ' ', 'did', ' ', 'you', ' ', 'get', ' ', 'it', '?', '', '\"', '', '\\n', '', '\\n', 'He', ' ', 'answered', ' ', 'slowly', ':', '', ' ', '', '\"', 'Mrs', '.', '', ' ', 'Stroud', ' ', 'gave', ' ', 'it', ' ', 'to', ' ', 'me', '.', '', '\"', '', '\\n', '', '\\n', '', '\"', 'Ah', '--', 'I', ' ', 'didn', \"'\", 't', ' ', 'know', ' ', 'you', ' ', 'even', ' ', 'knew', ' ', 'the', ' ', 'Strouds', '.', '', ' ', 'He', ' ', 'was', ' ', 'such', ' ', 'an', ' ', 'inflexible', ' ', 'hermit', '.', '', '\"', '', '\\n', '', '\\n', '', '\"', 'I', ' ', 'didn', \"'\", 't', '--', 'till', ' ', 'after', '.', '', ' ', '', '.', '', ' ', '', '.', '', ' ', '', '.', '', ' ', 'She', ' ', 'sent', ' ', 'for', ' ', 'me', ' ', 'to', ' ', 'paint', ' ', 'him', ' ', 'when', ' ', 'he', ' ', 'was', ' ', 'dead', '.', '', '\"', '', '\\n', '', '\\n', '', '\"', 'When', ' ', 'he', ' ', 'was', ' ', 'dead', '?', '', ' ', 'You', '?', '', '\"', '', '\\n', '', '\\n', 'I', ' ', 'must', ' ', 'have', ' ', 'let', ' ', 'a', ' ', 'little', ' ', 'too', ' ', 'much', ' ', 'amazement', ' ', 'escape', ' ', 'through', ' ', 'my', ' ', 'surprise', ',', '', ' ', 'for', ' ', 'he', ' ', 'answered', ' ', 'with', ' ', 'a', ' ', 'deprecating', ' ', 'laugh', ':', '', ' ', '', '\"', 'Yes', '--', 'she', \"'\", 's', ' ', 'an', ' ', 'awful', ' ', 'simpleton', ',', '', ' ', 'you', ' ', 'know', ',', '', ' ', 'Mrs', '.', '', ' ', 'Stroud', '.', '', ' ', 'Her', ' ', 'only', ' ', 'idea', ' ', 'was', ' ', 'to', ' ', 'have', ' ', 'him', ' ', 'done', ' ', 'by', ' ', 'a', ' ', 'fashionable', ' ', 'painter', '--', 'ah', ',', '', ' ', 'poor', ' ', 'Stroud', '!', '', ' ', 'She', ' ', 'thought', ' ', 'it', ' ', 'the', ' ', 'surest', ' ', 'way', ' ', 'of', ' ', 'proclaiming', ' ', 'his', ' ', 'greatness', '--', 'of', ' ', 'forcing', ' ', 'it', ' ', 'on', ' ', 'a', ' ', 'purblind', ' ', 'public', '.', '', ' ', 'And', ' ', 'at', ' ', 'the', ' ', 'moment', ' ', 'I', ' ', 'was', ' ', '', '_', 'the', '_', '', ' ', 'fashionable', ' ', 'painter', '.', '', '\"', '', '\\n', '', '\\n', '', '\"', 'Ah', ',', '', ' ', 'poor', ' ', 'Stroud', '--', 'as', ' ', 'you', ' ', 'say', '.', '', ' ', 'Was', ' ', '', '_', 'that', '_', '', ' ', 'his', ' ', 'history', '?', '', '\"', '', '\\n', '', '\\n', '', '\"', 'That', ' ', 'was', ' ', 'his', ' ', 'history', '.', '', ' ', 'She', ' ', 'believed', ' ', 'in', ' ', 'him', ',', '', ' ', 'gloried', ' ', 'in', ' ', 'him', '--', 'or', ' ', 'thought', ' ', 'she', ' ', 'did', '.', '', ' ', 'But', ' ', 'she', ' ', 'couldn', \"'\", 't', ' ', 'bear', ' ', 'not', ' ', 'to', ' ', 'have', ' ', 'all', ' ', 'the', ' ', 'drawing-rooms', ' ', 'with', ' ', 'her', '.', '', ' ', 'She', ' ', 'couldn', \"'\", 't', ' ', 'bear', ' ', 'the', ' ', 'fact', ' ', 'that', ',', '', ' ', 'on', ' ', 'varnishing', ' ', 'days', ',', '', ' ', 'one', ' ', 'could', ' ', 'always', ' ', 'get', ' ', 'near', ' ', 'enough', ' ', 'to', ' ', 'see', ' ', 'his', ' ', 'pictures', '.', '', ' ', 'Poor', ' ', 'woman', '!', '', ' ', 'She', \"'\", 's', ' ', 'just', ' ', 'a', ' ', 'fragment', ' ', 'groping', ' ', 'for', ' ', 'other', ' ', 'fragments', '.', '', ' ', 'Stroud', ' ', 'is', ' ', 'the', ' ', 'only', ' ', 'whole', ' ', 'I', ' ', 'ever', ' ', 'knew', '.', '', '\"', '', '\\n', '', '\\n', '', '\"', 'You', ' ', 'ever', ' ', 'knew', '?', '', ' ', 'But', ' ', 'you', ' ', 'just', ' ', 'said', '--', '', '\"', '', '\\n', '', '\\n', 'Gisburn', ' ', 'had', ' ', 'a', ' ', 'curious', ' ', 'smile', ' ', 'in', ' ', 'his', ' ', 'eyes', '.', '', '\\n', '', '\\n', '', '\"', 'Oh', ',', '', ' ', 'I', ' ', 'knew', ' ', 'him', ',', '', ' ', 'and', ' ', 'he', ' ', 'knew', ' ', 'me', '--', 'only', ' ', 'it', ' ', 'happened', ' ', 'after', ' ', 'he', ' ', 'was', ' ', 'dead', '.', '', '\"', '', '\\n', '', '\\n', 'I', ' ', 'dropped', ' ', 'my', ' ', 'voice', ' ', 'instinctively', '.', '', ' ', '', '\"', 'When', ' ', 'she', ' ', 'sent', ' ', 'for', ' ', 'you', '?', '', '\"', '', '\\n', '', '\\n', '', '\"', 'Yes', '--', 'quite', ' ', 'insensible', ' ', 'to', ' ', 'the', ' ', 'irony', '.', '', ' ', 'She', ' ', 'wanted', ' ', 'him', ' ', 'vindicated', '--', 'and', ' ', 'by', ' ', 'me', '!', '', '\"', '', '\\n', '', '\\n', 'He', ' ', 'laughed', ' ', 'again', ',', '', ' ', 'and', ' ', 'threw', ' ', 'back', ' ', 'his', ' ', 'head', ' ', 'to', ' ', 'look', ' ', 'up', ' ', 'at', ' ', 'the', ' ', 'sketch', ' ', 'of', ' ', 'the', ' ', 'donkey', '.', '', ' ', '', '\"', 'There', ' ', 'were', ' ', 'days', ' ', 'when', ' ', 'I', ' ', 'couldn', \"'\", 't', ' ', 'look', ' ', 'at', ' ', 'that', ' ', 'thing', '--', 'couldn', \"'\", 't', ' ', 'face', ' ', 'it', '.', '', ' ', 'But', ' ', 'I', ' ', 'forced', ' ', 'myself', ' ', 'to', ' ', 'put', ' ', 'it', ' ', 'here', ';', '', ' ', 'and', ' ', 'now', ' ', 'it', \"'\", 's', ' ', 'cured', ' ', 'me', '--', 'cured', ' ', 'me', '.', '', ' ', 'That', \"'\", 's', ' ', 'the', ' ', 'reason', ' ', 'why', ' ', 'I', ' ', 'don', \"'\", 't', ' ', 'dabble', ' ', 'any', ' ', 'more', ',', '', ' ', 'my', ' ', 'dear', ' ', 'Rickham', ';', '', ' ', 'or', ' ', 'rather', ' ', 'Stroud', ' ', 'himself', ' ', 'is', ' ', 'the', ' ', 'reason', '.', '', '\"', '', '\\n', '', '\\n', 'For', ' ', 'the', ' ', 'first', ' ', 'time', ' ', 'my', ' ', 'idle', ' ', 'curiosity', ' ', 'about', ' ', 'my', ' ', 'companion', ' ', 'turned', ' ', 'into', ' ', 'a', ' ', 'serious', ' ', 'desire', ' ', 'to', ' ', 'understand', ' ', 'him', ' ', 'better', '.', '', '\\n', '', '\\n', '', '\"', 'I', ' ', 'wish', ' ', 'you', \"'\", 'd', ' ', 'tell', ' ', 'me', ' ', 'how', ' ', 'it', ' ', 'happened', ',', '', '\"', '', ' ', 'I', ' ', 'said', '.', '', '\\n', '', '\\n', 'He', ' ', 'stood', ' ', 'looking', ' ', 'up', ' ', 'at', ' ', 'the', ' ', 'sketch', ',', '', ' ', 'and', ' ', 'twirling', ' ', 'between', ' ', 'his', ' ', 'fingers', ' ', 'a', ' ', 'cigarette', ' ', 'he', ' ', 'had', ' ', 'forgotten', ' ', 'to', ' ', 'light', '.', '', ' ', 'Suddenly', ' ', 'he', ' ', 'turned', ' ', 'toward', ' ', 'me', '.', '', '\\n', '', '\\n', '', '\"', 'I', \"'\", 'd', ' ', 'rather', ' ', 'like', ' ', 'to', ' ', 'tell', ' ', 'you', '--', 'because', ' ', 'I', \"'\", 've', ' ', 'always', ' ', 'suspected', ' ', 'you', ' ', 'of', ' ', 'loathing', ' ', 'my', ' ', 'work', '.', '', '\"', '', '\\n', '', '\\n', 'I', ' ', 'made', ' ', 'a', ' ', 'deprecating', ' ', 'gesture', ',', '', ' ', 'which', ' ', 'he', ' ', 'negatived', ' ', 'with', ' ', 'a', ' ', 'good-humoured', ' ', 'shrug', '.', '', '\\n', '', '\\n', '', '\"', 'Oh', ',', '', ' ', 'I', ' ', 'didn', \"'\", 't', ' ', 'care', ' ', 'a', ' ', 'straw', ' ', 'when', ' ', 'I', ' ', 'believed', ' ', 'in', ' ', 'myself', '--', 'and', ' ', 'now', ' ', 'it', \"'\", 's', ' ', 'an', ' ', 'added', ' ', 'tie', ' ', 'between', ' ', 'us', '!', '', '\"', '', '\\n', '', '\\n', 'He', ' ', 'laughed', ' ', 'slightly', ',', '', ' ', 'without', ' ', 'bitterness', ',', '', ' ', 'and', ' ', 'pushed', ' ', 'one', ' ', 'of', ' ', 'the', ' ', 'deep', ' ', 'arm-chairs', ' ', 'forward', '.', '', ' ', '', '\"', 'There', ':', '', ' ', 'make', ' ', 'yourself', ' ', 'comfortable', '--', 'and', ' ', 'here', ' ', 'are', ' ', 'the', ' ', 'cigars', ' ', 'you', ' ', 'like', '.', '', '\"', '', '\\n', '', '\\n', 'He', ' ', 'placed', ' ', 'them', ' ', 'at', ' ', 'my', ' ', 'elbow', ' ', 'and', ' ', 'continued', ' ', 'to', ' ', 'wander', ' ', 'up', ' ', 'and', ' ', 'down', ' ', 'the', ' ', 'room', ',', '', ' ', 'stopping', ' ', 'now', ' ', 'and', ' ', 'then', ' ', 'beneath', ' ', 'the', ' ', 'picture', '.', '', '\\n', '', '\\n', '', '\"', 'How', ' ', 'it', ' ', 'happened', '?', '', ' ', 'I', ' ', 'can', ' ', 'tell', ' ', 'you', ' ', 'in', ' ', 'five', ' ', 'minutes', '--', 'and', ' ', 'it', ' ', 'didn', \"'\", 't', ' ', 'take', ' ', 'much', ' ', 'longer', ' ', 'to', ' ', 'happen', '.', '', ' ', '', '.', '', ' ', '', '.', '', ' ', '', '.', '', ' ', 'I', ' ', 'can', ' ', 'remember', ' ', 'now', ' ', 'how', ' ', 'surprised', ' ', 'and', ' ', 'pleased', ' ', 'I', ' ', 'was', ' ', 'when', ' ', 'I', ' ', 'got', ' ', 'Mrs', '.', '', ' ', 'Stroud', \"'\", 's', ' ', 'note', '.', '', ' ', 'Of', ' ', 'course', ',', '', ' ', 'deep', ' ', 'down', ',', '', ' ', 'I', ' ', 'had', ' ', 'always', ' ', '', '_', 'felt', '_', '', ' ', 'there', ' ', 'was', ' ', 'no', ' ', 'one', ' ', 'like', ' ', 'him', '--', 'only', ' ', 'I', ' ', 'had', ' ', 'gone', ' ', 'with', ' ', 'the', ' ', 'stream', ',', '', ' ', 'echoed', ' ', 'the', ' ', 'usual', ' ', 'platitudes', ' ', 'about', ' ', 'him', ',', '', ' ', 'till', ' ', 'I', ' ', 'half', ' ', 'got', ' ', 'to', ' ', 'think', ' ', 'he', ' ', 'was', ' ', 'a', ' ', 'failure', ',', '', ' ', 'one', ' ', 'of', ' ', 'the', ' ', 'kind', ' ', 'that', ' ', 'are', ' ', 'left', ' ', 'behind', '.', '', ' ', 'By', ' ', 'Jove', ',', '', ' ', 'and', ' ', 'he', ' ', '', '_', 'was', '_', '', ' ', 'left', ' ', 'behind', '--', 'because', ' ', 'he', ' ', 'had', ' ', 'come', ' ', 'to', ' ', 'stay', '!', '', ' ', 'The', ' ', 'rest', ' ', 'of', ' ', 'us', ' ', 'had', ' ', 'to', ' ', 'let', ' ', 'ourselves', ' ', 'be', ' ', 'swept', ' ', 'along', ' ', 'or', ' ', 'go', ' ', 'under', ',', '', ' ', 'but', ' ', 'he', ' ', 'was', ' ', 'high', ' ', 'above', ' ', 'the', ' ', 'current', '--', 'on', ' ', 'everlasting', ' ', 'foundations', ',', '', ' ', 'as', ' ', 'you', ' ', 'say', '.', '', '\\n', '', '\\n', '', '\"', 'Well', ',', '', ' ', 'I', ' ', 'went', ' ', 'off', ' ', 'to', ' ', 'the', ' ', 'house', ' ', 'in', ' ', 'my', ' ', 'most', ' ', 'egregious', ' ', 'mood', '--', 'rather', ' ', 'moved', ',', '', ' ', 'Lord', ' ', 'forgive', ' ', 'me', ',', '', ' ', 'at', ' ', 'the', ' ', 'pathos', ' ', 'of', ' ', 'poor', ' ', 'Stroud', \"'\", 's', ' ', 'career', ' ', 'of', ' ', 'failure', ' ', 'being', ' ', 'crowned', ' ', 'by', ' ', 'the', ' ', 'glory', ' ', 'of', ' ', 'my', ' ', 'painting', ' ', 'him', '!', '', ' ', 'Of', ' ', 'course', ' ', 'I', ' ', 'meant', ' ', 'to', ' ', 'do', ' ', 'the', ' ', 'picture', ' ', 'for', ' ', 'nothing', '--', 'I', ' ', 'told', ' ', 'Mrs', '.', '', ' ', 'Stroud', ' ', 'so', ' ', 'when', ' ', 'she', ' ', 'began', ' ', 'to', ' ', 'stammer', ' ', 'something', ' ', 'about', ' ', 'her', ' ', 'poverty', '.', '', ' ', 'I', ' ', 'remember', ' ', 'getting', ' ', 'off', ' ', 'a', ' ', 'prodigious', ' ', 'phrase', ' ', 'about', ' ', 'the', ' ', 'honour', ' ', 'being', ' ', '', '_', 'mine', '_', '', '--', 'oh', ',', '', ' ', 'I', ' ', 'was', ' ', 'princely', ',', '', ' ', 'my', ' ', 'dear', ' ', 'Rickham', '!', '', ' ', 'I', ' ', 'was', ' ', 'posing', ' ', 'to', ' ', 'myself', ' ', 'like', ' ', 'one', ' ', 'of', ' ', 'my', ' ', 'own', ' ', 'sitters', '.', '', '\\n', '', '\\n', '', '\"', 'Then', ' ', 'I', ' ', 'was', ' ', 'taken', ' ', 'up', ' ', 'and', ' ', 'left', ' ', 'alone', ' ', 'with', ' ', 'him', '.', '', ' ', 'I', ' ', 'had', ' ', 'sent', ' ', 'all', ' ', 'my', ' ', 'traps', ' ', 'in', ' ', 'advance', ',', '', ' ', 'and', ' ', 'I', ' ', 'had', ' ', 'only', ' ', 'to', ' ', 'set', ' ', 'up', ' ', 'the', ' ', 'easel', ' ', 'and', ' ', 'get', ' ', 'to', ' ', 'work', '.', '', ' ', 'He', ' ', 'had', ' ', 'been', ' ', 'dead', ' ', 'only', ' ', 'twenty-four', ' ', 'hours', ',', '', ' ', 'and', ' ', 'he', ' ', 'died', ' ', 'suddenly', ',', '', ' ', 'of', ' ', 'heart', ' ', 'disease', ',', '', ' ', 'so', ' ', 'that', ' ', 'there', ' ', 'had', ' ', 'been', ' ', 'no', ' ', 'preliminary', ' ', 'work', ' ', 'of', ' ', 'destruction', '--', 'his', ' ', 'face', ' ', 'was', ' ', 'clear', ' ', 'and', ' ', 'untouched', '.', '', ' ', 'I', ' ', 'had', ' ', 'met', ' ', 'him', ' ', 'once', ' ', 'or', ' ', 'twice', ',', '', ' ', 'years', ' ', 'before', ',', '', ' ', 'and', ' ', 'thought', ' ', 'him', ' ', 'insignificant', ' ', 'and', ' ', 'dingy', '.', '', ' ', 'Now', ' ', 'I', ' ', 'saw', ' ', 'that', ' ', 'he', ' ', 'was', ' ', 'superb', '.', '', '\\n', '', '\\n', '', '\"', 'I', ' ', 'was', ' ', 'glad', ' ', 'at', ' ', 'first', ',', '', ' ', 'with', ' ', 'a', ' ', 'merely', ' ', 'aesthetic', ' ', 'satisfaction', ':', '', ' ', 'glad', ' ', 'to', ' ', 'have', ' ', 'my', ' ', 'hand', ' ', 'on', ' ', 'such', ' ', 'a', ' ', '', \"'\", 'subject', '.', '', \"'\", '', ' ', 'Then', ' ', 'his', ' ', 'strange', ' ', 'life-likeness', ' ', 'began', ' ', 'to', ' ', 'affect', ' ', 'me', ' ', 'queerly', '--', 'as', ' ', 'I', ' ', 'blocked', ' ', 'the', ' ', 'head', ' ', 'in', ' ', 'I', ' ', 'felt', ' ', 'as', ' ', 'if', ' ', 'he', ' ', 'were', ' ', 'watching', ' ', 'me', ' ', 'do', ' ', 'it', '.', '', ' ', 'The', ' ', 'sensation', ' ', 'was', ' ', 'followed', ' ', 'by', ' ', 'the', ' ', 'thought', ':', '', ' ', 'if', ' ', 'he', ' ', '', '_', 'were', '_', '', ' ', 'watching', ' ', 'me', ',', '', ' ', 'what', ' ', 'would', ' ', 'he', ' ', 'say', ' ', 'to', ' ', 'my', ' ', 'way', ' ', 'of', ' ', 'working', '?', '', ' ', 'My', ' ', 'strokes', ' ', 'began', ' ', 'to', ' ', 'go', ' ', 'a', ' ', 'little', ' ', 'wild', '--', 'I', ' ', 'felt', ' ', 'nervous', ' ', 'and', ' ', 'uncertain', '.', '', '\\n', '', '\\n', '', '\"', 'Once', ',', '', ' ', 'when', ' ', 'I', ' ', 'looked', ' ', 'up', ',', '', ' ', 'I', ' ', 'seemed', ' ', 'to', ' ', 'see', ' ', 'a', ' ', 'smile', ' ', 'behind', ' ', 'his', ' ', 'close', ' ', 'grayish', ' ', 'beard', '--', 'as', ' ', 'if', ' ', 'he', ' ', 'had', ' ', 'the', ' ', 'secret', ',', '', ' ', 'and', ' ', 'were', ' ', 'amusing', ' ', 'himself', ' ', 'by', ' ', 'holding', ' ', 'it', ' ', 'back', ' ', 'from', ' ', 'me', '.', '', ' ', 'That', ' ', 'exasperated', ' ', 'me', ' ', 'still', ' ', 'more', '.', '', ' ', 'The', ' ', 'secret', '?', '', ' ', 'Why', ',', '', ' ', 'I', ' ', 'had', ' ', 'a', ' ', 'secret', ' ', 'worth', ' ', 'twenty', ' ', 'of', ' ', 'his', '!', '', ' ', 'I', ' ', 'dashed', ' ', 'at', ' ', 'the', ' ', 'canvas', ' ', 'furiously', ',', '', ' ', 'and', ' ', 'tried', ' ', 'some', ' ', 'of', ' ', 'my', ' ', 'bravura', ' ', 'tricks', '.', '', ' ', 'But', ' ', 'they', ' ', 'failed', ' ', 'me', ',', '', ' ', 'they', ' ', 'crumbled', '.', '', ' ', 'I', ' ', 'saw', ' ', 'that', ' ', 'he', ' ', 'wasn', \"'\", 't', ' ', 'watching', ' ', 'the', ' ', 'showy', ' ', 'bits', '--', 'I', ' ', 'couldn', \"'\", 't', ' ', 'distract', ' ', 'his', ' ', 'attention', ';', '', ' ', 'he', ' ', 'just', ' ', 'kept', ' ', 'his', ' ', 'eyes', ' ', 'on', ' ', 'the', ' ', 'hard', ' ', 'passages', ' ', 'between', '.', '', ' ', 'Those', ' ', 'were', ' ', 'the', ' ', 'ones', ' ', 'I', ' ', 'had', ' ', 'always', ' ', 'shirked', ',', '', ' ', 'or', ' ', 'covered', ' ', 'up', ' ', 'with', ' ', 'some', ' ', 'lying', ' ', 'paint', '.', '', ' ', 'And', ' ', 'how', ' ', 'he', ' ', 'saw', ' ', 'through', ' ', 'my', ' ', 'lies', '!', '', '\\n', '', '\\n', '', '\"', 'I', ' ', 'looked', ' ', 'up', ' ', 'again', ',', '', ' ', 'and', ' ', 'caught', ' ', 'sight', ' ', 'of', ' ', 'that', ' ', 'sketch', ' ', 'of', ' ', 'the', ' ', 'donkey', ' ', 'hanging', ' ', 'on', ' ', 'the', ' ', 'wall', ' ', 'near', ' ', 'his', ' ', 'bed', '.', '', ' ', 'His', ' ', 'wife', ' ', 'told', ' ', 'me', ' ', 'afterward', ' ', 'it', ' ', 'was', ' ', 'the', ' ', 'last', ' ', 'thing', ' ', 'he', ' ', 'had', ' ', 'done', '--', 'just', ' ', 'a', ' ', 'note', ' ', 'taken', ' ', 'with', ' ', 'a', ' ', 'shaking', ' ', 'hand', ',', '', ' ', 'when', ' ', 'he', ' ', 'was', ' ', 'down', ' ', 'in', ' ', 'Devonshire', ' ', 'recovering', ' ', 'from', ' ', 'a', ' ', 'previous', ' ', 'heart', ' ', 'attack', '.', '', ' ', 'Just', ' ', 'a', ' ', 'note', '!', '', ' ', 'But', ' ', 'it', ' ', 'tells', ' ', 'his', ' ', 'whole', ' ', 'history', '.', '', ' ', 'There', ' ', 'are', ' ', 'years', ' ', 'of', ' ', 'patient', ' ', 'scornful', ' ', 'persistence', ' ', 'in', ' ', 'every', ' ', 'line', '.', '', ' ', 'A', ' ', 'man', ' ', 'who', ' ', 'had', ' ', 'swum', ' ', 'with', ' ', 'the', ' ', 'current', ' ', 'could', ' ', 'never', ' ', 'have', ' ', 'learned', ' ', 'that', ' ', 'mighty', ' ', 'up-stream', ' ', 'stroke', '.', '', ' ', '', '.', '', ' ', '', '.', '', ' ', '', '.', '', '\\n', '', '\\n', '', '\"', 'I', ' ', 'turned', ' ', 'back', ' ', 'to', ' ', 'my', ' ', 'work', ',', '', ' ', 'and', ' ', 'went', ' ', 'on', ' ', 'groping', ' ', 'and', ' ', 'muddling', ';', '', ' ', 'then', ' ', 'I', ' ', 'looked', ' ', 'at', ' ', 'the', ' ', 'donkey', ' ', 'again', '.', '', ' ', 'I', ' ', 'saw', ' ', 'that', ',', '', ' ', 'when', ' ', 'Stroud', ' ', 'laid', ' ', 'in', ' ', 'the', ' ', 'first', ' ', 'stroke', ',', '', ' ', 'he', ' ', 'knew', ' ', 'just', ' ', 'what', ' ', 'the', ' ', 'end', ' ', 'would', ' ', 'be', '.', '', ' ', 'He', ' ', 'had', ' ', 'possessed', ' ', 'his', ' ', 'subject', ',', '', ' ', 'absorbed', ' ', 'it', ',', '', ' ', 'recreated', ' ', 'it', '.', '', ' ', 'When', ' ', 'had', ' ', 'I', ' ', 'done', ' ', 'that', ' ', 'with', ' ', 'any', ' ', 'of', ' ', 'my', ' ', 'things', '?', '', ' ', 'They', ' ', 'hadn', \"'\", 't', ' ', 'been', ' ', 'born', ' ', 'of', ' ', 'me', '--', 'I', ' ', 'had', ' ', 'just', ' ', 'adopted', ' ', 'them', '.', '', ' ', '', '.', '', ' ', '', '.', '', ' ', '', '.', '', '\\n', '', '\\n', '', '\"', 'Hang', ' ', 'it', ',', '', ' ', 'Rickham', ',', '', ' ', 'with', ' ', 'that', ' ', 'face', ' ', 'watching', ' ', 'me', ' ', 'I', ' ', 'couldn', \"'\", 't', ' ', 'do', ' ', 'another', ' ', 'stroke', '.', '', ' ', 'The', ' ', 'plain', ' ', 'truth', ' ', 'was', ',', '', ' ', 'I', ' ', 'didn', \"'\", 't', ' ', 'know', ' ', 'where', ' ', 'to', ' ', 'put', ' ', 'it', '--', '', '_', 'I', ' ', 'had', ' ', 'never', ' ', 'known', '_', '', '.', '', ' ', 'Only', ',', '', ' ', 'with', ' ', 'my', ' ', 'sitters', ' ', 'and', ' ', 'my', ' ', 'public', ',', '', ' ', 'a', ' ', 'showy', ' ', 'splash', ' ', 'of', ' ', 'colour', ' ', 'covered', ' ', 'up', ' ', 'the', ' ', 'fact', '--', 'I', ' ', 'just', ' ', 'threw', ' ', 'paint', ' ', 'into', ' ', 'their', ' ', 'faces', '.', '', ' ', '', '.', '', ' ', '', '.', '', ' ', '', '.', '', ' ', 'Well', ',', '', ' ', 'paint', ' ', 'was', ' ', 'the', ' ', 'one', ' ', 'medium', ' ', 'those', ' ', 'dead', ' ', 'eyes', ' ', 'could', ' ', 'see', ' ', 'through', '--', 'see', ' ', 'straight', ' ', 'to', ' ', 'the', ' ', 'tottering', ' ', 'foundations', ' ', 'underneath', '.', '', ' ', 'Don', \"'\", 't', ' ', 'you', ' ', 'know', ' ', 'how', ',', '', ' ', 'in', ' ', 'talking', ' ', 'a', ' ', 'foreign', ' ', 'language', ',', '', ' ', 'even', ' ', 'fluently', ',', '', ' ', 'one', ' ', 'says', ' ', 'half', ' ', 'the', ' ', 'time', ' ', 'not', ' ', 'what', ' ', 'one', ' ', 'wants', ' ', 'to', ' ', 'but', ' ', 'what', ' ', 'one', ' ', 'can', '?', '', ' ', 'Well', '--', 'that', ' ', 'was', ' ', 'the', ' ', 'way', ' ', 'I', ' ', 'painted', ';', '', ' ', 'and', ' ', 'as', ' ', 'he', ' ', 'lay', ' ', 'there', ' ', 'and', ' ', 'watched', ' ', 'me', ',', '', ' ', 'the', ' ', 'thing', ' ', 'they', ' ', 'called', ' ', 'my', ' ', '', \"'\", 'technique', \"'\", '', ' ', 'collapsed', ' ', 'like', ' ', 'a', ' ', 'house', ' ', 'of', ' ', 'cards', '.', '', ' ', 'He', ' ', 'didn', \"'\", 't', ' ', 'sneer', ',', '', ' ', 'you', ' ', 'understand', ',', '', ' ', 'poor', ' ', 'Stroud', '--', 'he', ' ', 'just', ' ', 'lay', ' ', 'there', ' ', 'quietly', ' ', 'watching', ',', '', ' ', 'and', ' ', 'on', ' ', 'his', ' ', 'lips', ',', '', ' ', 'through', ' ', 'the', ' ', 'gray', ' ', 'beard', ',', '', ' ', 'I', ' ', 'seemed', ' ', 'to', ' ', 'hear', ' ', 'the', ' ', 'question', ':', '', ' ', '', \"'\", 'Are', ' ', 'you', ' ', 'sure', ' ', 'you', ' ', 'know', ' ', 'where', ' ', 'you', \"'\", 're', ' ', 'coming', ' ', 'out', '?', '', \"'\", '', '\\n', '', '\\n', '', '\"', 'If', ' ', 'I', ' ', 'could', ' ', 'have', ' ', 'painted', ' ', 'that', ' ', 'face', ',', '', ' ', 'with', ' ', 'that', ' ', 'question', ' ', 'on', ' ', 'it', ',', '', ' ', 'I', ' ', 'should', ' ', 'have', ' ', 'done', ' ', 'a', ' ', 'great', ' ', 'thing', '.', '', ' ', 'The', ' ', 'next', ' ', 'greatest', ' ', 'thing', ' ', 'was', ' ', 'to', ' ', 'see', ' ', 'that', ' ', 'I', ' ', 'couldn', \"'\", 't', '--', 'and', ' ', 'that', ' ', 'grace', ' ', 'was', ' ', 'given', ' ', 'me', '.', '', ' ', 'But', ',', '', ' ', 'oh', ',', '', ' ', 'at', ' ', 'that', ' ', 'minute', ',', '', ' ', 'Rickham', ',', '', ' ', 'was', ' ', 'there', ' ', 'anything', ' ', 'on', ' ', 'earth', ' ', 'I', ' ', 'wouldn', \"'\", 't', ' ', 'have', ' ', 'given', ' ', 'to', ' ', 'have', ' ', 'Stroud', ' ', 'alive', ' ', 'before', ' ', 'me', ',', '', ' ', 'and', ' ', 'to', ' ', 'hear', ' ', 'him', ' ', 'say', ':', '', ' ', '', \"'\", 'It', \"'\", 's', ' ', 'not', ' ', 'too', ' ', 'late', '--', 'I', \"'\", 'll', ' ', 'show', ' ', 'you', ' ', 'how', \"'\", '', '?', '', '\\n', '', '\\n', '', '\"', 'It', ' ', '', '_', 'was', '_', '', ' ', 'too', ' ', 'late', '--', 'it', ' ', 'would', ' ', 'have', ' ', 'been', ',', '', ' ', 'even', ' ', 'if', ' ', 'he', \"'\", 'd', ' ', 'been', ' ', 'alive', '.', '', ' ', 'I', ' ', 'packed', ' ', 'up', ' ', 'my', ' ', 'traps', ',', '', ' ', 'and', ' ', 'went', ' ', 'down', ' ', 'and', ' ', 'told', ' ', 'Mrs', '.', '', ' ', 'Stroud', '.', '', ' ', 'Of', ' ', 'course', ' ', 'I', ' ', 'didn', \"'\", 't', ' ', 'tell', ' ', 'her', ' ', '', '_', 'that', '_', '', '--', 'it', ' ', 'would', ' ', 'have', ' ', 'been', ' ', 'Greek', ' ', 'to', ' ', 'her', '.', '', ' ', 'I', ' ', 'simply', ' ', 'said', ' ', 'I', ' ', 'couldn', \"'\", 't', ' ', 'paint', ' ', 'him', ',', '', ' ', 'that', ' ', 'I', ' ', 'was', ' ', 'too', ' ', 'moved', '.', '', ' ', 'She', ' ', 'rather', ' ', 'liked', ' ', 'the', ' ', 'idea', '--', 'she', \"'\", 's', ' ', 'so', ' ', 'romantic', '!', '', ' ', 'It', ' ', 'was', ' ', 'that', ' ', 'that', ' ', 'made', ' ', 'her', ' ', 'give', ' ', 'me', ' ', 'the', ' ', 'donkey', '.', '', ' ', 'But', ' ', 'she', ' ', 'was', ' ', 'terribly', ' ', 'upset', ' ', 'at', ' ', 'not', ' ', 'getting', ' ', 'the', ' ', 'portrait', '--', 'she', ' ', 'did', ' ', 'so', ' ', 'want', ' ', 'him', ' ', '', \"'\", 'done', \"'\", '', ' ', 'by', ' ', 'some', ' ', 'one', ' ', 'showy', '!', '', ' ', 'At', ' ', 'first', ' ', 'I', ' ', 'was', ' ', 'afraid', ' ', 'she', ' ', 'wouldn', \"'\", 't', ' ', 'let', ' ', 'me', ' ', 'off', '--', 'and', ' ', 'at', ' ', 'my', ' ', 'wits', \"'\", '', ' ', 'end', ' ', 'I', ' ', 'suggested', ' ', 'Grindle', '.', '', ' ', 'Yes', ',', '', ' ', 'it', ' ', 'was', ' ', 'I', ' ', 'who', ' ', 'started', ' ', 'Grindle', ':', '', ' ', 'I', ' ', 'told', ' ', 'Mrs', '.', '', ' ', 'Stroud', ' ', 'he', ' ', 'was', ' ', 'the', ' ', '', \"'\", 'coming', \"'\", '', ' ', 'man', ',', '', ' ', 'and', ' ', 'she', ' ', 'told', ' ', 'somebody', ' ', 'else', ',', '', ' ', 'and', ' ', 'so', ' ', 'it', ' ', 'got', ' ', 'to', ' ', 'be', ' ', 'true', '.', '', ' ', '', '.', '', ' ', '', '.', '', ' ', '', '.', '', ' ', 'And', ' ', 'he', ' ', 'painted', ' ', 'Stroud', ' ', 'without', ' ', 'wincing', ';', '', ' ', 'and', ' ', 'she', ' ', 'hung', ' ', 'the', ' ', 'picture', ' ', 'among', ' ', 'her', ' ', 'husband', \"'\", 's', ' ', 'things', '.', '', ' ', '', '.', '', ' ', '', '.', '', ' ', '', '.', '', '\"', '', '\\n', '', '\\n', 'He', ' ', 'flung', ' ', 'himself', ' ', 'down', ' ', 'in', ' ', 'the', ' ', 'arm-chair', ' ', 'near', ' ', 'mine', ',', '', ' ', 'laid', ' ', 'back', ' ', 'his', ' ', 'head', ',', '', ' ', 'and', ' ', 'clasping', ' ', 'his', ' ', 'arms', ' ', 'beneath', ' ', 'it', ',', '', ' ', 'looked', ' ', 'up', ' ', 'at', ' ', 'the', ' ', 'picture', ' ', 'above', ' ', 'the', ' ', 'chimney-piece', '.', '', '\\n', '', '\\n', '', '\"', 'I', ' ', 'like', ' ', 'to', ' ', 'fancy', ' ', 'that', ' ', 'Stroud', ' ', 'himself', ' ', 'would', ' ', 'have', ' ', 'given', ' ', 'it', ' ', 'to', ' ', 'me', ',', '', ' ', 'if', ' ', 'he', \"'\", 'd', ' ', 'been', ' ', 'able', ' ', 'to', ' ', 'say', ' ', 'what', ' ', 'he', ' ', 'thought', ' ', 'that', ' ', 'day', '.', '', '\"', '', '\\n', '', '\\n', 'And', ',', '', ' ', 'in', ' ', 'answer', ' ', 'to', ' ', 'a', ' ', 'question', ' ', 'I', ' ', 'put', ' ', 'half-mechanically', '--', '', '\"', 'Begin', ' ', 'again', '?', '', '\"', '', ' ', 'he', ' ', 'flashed', ' ', 'out', '.', '', ' ', '', '\"', 'When', ' ', 'the', ' ', 'one', ' ', 'thing', ' ', 'that', ' ', 'brings', ' ', 'me', ' ', 'anywhere', ' ', 'near', ' ', 'him', ' ', 'is', ' ', 'that', ' ', 'I', ' ', 'knew', ' ', 'enough', ' ', 'to', ' ', 'leave', ' ', 'off', '?', '', '\"', '', '\\n', '', '\\n', 'He', ' ', 'stood', ' ', 'up', ' ', 'and', ' ', 'laid', ' ', 'his', ' ', 'hand', ' ', 'on', ' ', 'my', ' ', 'shoulder', ' ', 'with', ' ', 'a', ' ', 'laugh', '.', '', ' ', '', '\"', 'Only', ' ', 'the', ' ', 'irony', ' ', 'of', ' ', 'it', ' ', 'is', ' ', 'that', ' ', 'I', ' ', '', '_', 'am', '_', '', ' ', 'still', ' ', 'painting', '--', 'since', ' ', 'Grindle', \"'\", 's', ' ', 'doing', ' ', 'it', ' ', 'for', ' ', 'me', '!', '', ' ', 'The', ' ', 'Strouds', ' ', 'stand', ' ', 'alone', ',', '', ' ', 'and', ' ', 'happen', ' ', 'once', '--', 'but', ' ', 'there', \"'\", 's', ' ', 'no', ' ', 'exterminating', ' ', 'our', ' ', 'kind', ' ', 'of', ' ', 'art', '.', '', '\"', '']\n",
      "['I', 'HAD', 'always', 'thought', 'Jack', 'Gisburn', 'rather', 'a', 'cheap', 'genius', '--', 'though', 'a', 'good', 'fellow', 'enough', '--', 'so', 'it', 'was', 'no', 'great', 'surprise', 'to', 'me', 'to', 'hear', 'that', ',', 'in']\n"
     ]
    }
   ],
   "source": [
    "preprocessed = re.split(r'([,.:;?_!\"()\\']|--|\\s)', raw_text)\n",
    "print(preprocessed)\n",
    "preprocessed = [item.strip() for item in preprocessed if item.strip()]\n",
    "print(preprocessed[:30])"
   ]
  },
  {
   "cell_type": "markdown",
   "id": "e2a19e1a-5105-4ddb-812a-b7d3117eab95",
   "metadata": {},
   "source": [
    "- Let's calculate the total number of tokens"
   ]
  },
  {
   "cell_type": "code",
   "execution_count": 29,
   "id": "35db7b5e-510b-4c45-995f-f5ad64a8e19c",
   "metadata": {},
   "outputs": [
    {
     "name": "stdout",
     "output_type": "stream",
     "text": [
      "4690\n"
     ]
    }
   ],
   "source": [
    "print(len(preprocessed))"
   ]
  },
  {
   "cell_type": "markdown",
   "id": "0b5ce8fe-3a07-4f2a-90f1-a0321ce3a231",
   "metadata": {},
   "source": [
    "## 2.3 Converting tokens into token IDs"
   ]
  },
  {
   "cell_type": "markdown",
   "id": "a5204973-f414-4c0d-87b0-cfec1f06e6ff",
   "metadata": {},
   "source": [
    "- Next, we convert the text tokens into token IDs that we can process via embedding layers later"
   ]
  },
  {
   "cell_type": "markdown",
   "id": "177b041d-f739-43b8-bd81-0443ae3a7f8d",
   "metadata": {},
   "source": [
    "<img src=\"https://sebastianraschka.com/images/LLMs-from-scratch-images/ch02_compressed/06.webp\" width=\"500px\">"
   ]
  },
  {
   "cell_type": "markdown",
   "id": "b5973794-7002-4202-8b12-0900cd779720",
   "metadata": {},
   "source": [
    "- From these tokens, we can now build a vocabulary that consists of all the unique tokens"
   ]
  },
  {
   "cell_type": "code",
   "execution_count": 30,
   "id": "7fdf0533-5ab6-42a5-83fa-a3b045de6396",
   "metadata": {},
   "outputs": [
    {
     "name": "stdout",
     "output_type": "stream",
     "text": [
      "['!', '\"', \"'\", '(', ')', ',', '--', '.', ':', ';', '?', 'A', 'Ah', 'Among', 'And', 'Are', 'Arrt', 'As', 'At', 'Be', 'Begin', 'Burlington', 'But', 'By', 'Carlo', 'Chicago', 'Claude', 'Come', 'Croft', 'Destroyed', 'Devonshire', 'Don', 'Dubarry', 'Emperors', 'Florence', 'For', 'Gallery', 'Gideon', 'Gisburn', 'Gisburns', 'Grafton', 'Greek', 'Grindle', 'Grindles', 'HAD', 'Had', 'Hang', 'Has', 'He', 'Her', 'Hermia', 'His', 'How', 'I', 'If', 'In', 'It', 'Jack', 'Jove', 'Just', 'Lord', 'Made', 'Miss', 'Money', 'Monte', 'Moon-dancers', 'Mr', 'Mrs', 'My', 'Never', 'No', 'Now', 'Nutley', 'Of', 'Oh', 'On', 'Once', 'Only', 'Or', 'Perhaps', 'Poor', 'Professional', 'Renaissance', 'Rickham', 'Riviera', 'Rome', 'Russian', 'Sevres', 'She', 'Stroud', 'Strouds', 'Suddenly', 'That', 'The', 'Then', 'There', 'They', 'This', 'Those', 'Though', 'Thwing', 'Thwings', 'To', 'Usually', 'Venetian', 'Victor', 'Was', 'We', 'Well', 'What', 'When', 'Why', 'Yes', 'You', '_', 'a', 'abdication', 'able', 'about', 'above', 'abruptly', 'absolute', 'absorbed', 'absurdity', 'academic', 'accuse', 'accustomed', 'across', 'activity', 'add', 'added', 'admirers', 'adopted', 'adulation', 'advance', 'aesthetic', 'affect', 'afraid', 'after', 'afterward', 'again', 'ago', 'ah', 'air', 'alive', 'all', 'almost', 'alone', 'along', 'always', 'am', 'amazement', 'amid', 'among', 'amplest', 'amusing', 'an', 'and', 'another', 'answer', 'answered', 'any', 'anything', 'anywhere', 'apparent', 'apparently', 'appearance', 'appeared', 'appointed', 'are', 'arm', 'arm-chair', 'arm-chairs', 'arms', 'art', 'articles', 'artist', 'as', 'aside', 'asked', 'at', 'atmosphere', 'atom', 'attack', 'attention', 'attitude', 'audacities', 'away', 'awful', 'axioms', 'azaleas', 'back', 'background', 'balance', 'balancing', 'balustraded', 'basking', 'bath-rooms', 'be', 'beaming', 'bean-stalk', 'bear', 'beard', 'beauty', 'became', 'because', 'becoming', 'bed', 'been', 'before', 'began', 'begun', 'behind', 'being', 'believed', 'beneath', 'bespoke', 'better', 'between', 'big', 'bits', 'bitterness', 'blocked', 'born', 'borne', 'boudoir', 'bravura', 'break', 'breaking', 'breathing', 'bric-a-brac', 'briefly', 'brings', 'bronzes', 'brought', 'brown', 'brush', 'bull', 'business', 'but', 'buying', 'by', 'called', 'came', 'can', 'canvas', 'canvases', 'cards', 'care', 'career', 'caught', 'central', 'chair', 'chap', 'characteristic', 'charming', 'cheap', 'check', 'cheeks', 'chest', 'chimney-piece', 'chucked', 'cigar', 'cigarette', 'cigars', 'circulation', 'circumstance', 'circus-clown', 'claimed', 'clasping', 'clear', 'cleverer', 'close', 'clue', 'coat', 'collapsed', 'colour', 'come', 'comfortable', 'coming', 'companion', 'compared', 'complex', 'confident', 'congesting', 'conjugal', 'constraint', 'consummate', 'contended', 'continued', 'corner', 'corrected', 'could', 'couldn', 'count', 'countenance', 'couple', 'course', 'covered', 'craft', 'cried', 'crossed', 'crowned', 'crumbled', 'cry', 'cured', 'curiosity', 'curious', 'current', 'curtains', 'd', 'dabble', 'damask', 'dark', 'dashed', 'day', 'days', 'dead', 'deadening', 'dear', 'deep', 'deerhound', 'degree', 'delicate', 'demand', 'denied', 'deploring', 'deprecating', 'deprecatingly', 'desire', 'destroyed', 'destruction', 'desultory', 'detail', 'diagnosis', 'did', 'didn', 'died', 'dim', 'dimmest', 'dingy', 'dining-room', 'disarming', 'discovery', 'discrimination', 'discussion', 'disdain', 'disdained', 'disease', 'disguised', 'display', 'dissatisfied', 'distinguished', 'distract', 'divert', 'do', 'doesn', 'doing', 'domestic', 'don', 'done', 'donkey', 'down', 'dozen', 'dragged', 'drawing-room', 'drawing-rooms', 'drawn', 'dress-closets', 'drew', 'dropped', 'each', 'earth', 'ease', 'easel', 'easy', 'echoed', 'economy', 'effect', 'effects', 'efforts', 'egregious', 'eighteenth-century', 'elbow', 'elegant', 'else', 'embarrassed', 'enabled', 'end', 'endless', 'enjoy', 'enlightenment', 'enough', 'ensuing', 'equally', 'equanimity', 'escape', 'established', 'etching', 'even', 'event', 'ever', 'everlasting', 'every', 'exasperated', 'except', 'excuse', 'excusing', 'existed', 'expected', 'exquisite', 'exquisitely', 'extenuation', 'exterminating', 'extracting', 'eye', 'eyebrows', 'eyes', 'face', 'faces', 'fact', 'faded', 'failed', 'failure', 'fair', 'faith', 'false', 'familiar', 'famille-verte', 'fancy', 'fashionable', 'fate', 'feather', 'feet', 'fell', 'fellow', 'felt', 'few', 'fewer', 'finality', 'find', 'fingers', 'first', 'fit', 'fitting', 'five', 'flash', 'flashed', 'florid', 'flowers', 'fluently', 'flung', 'follow', 'followed', 'fond', 'footstep', 'for', 'forced', 'forcing', 'forehead', 'foreign', 'foreseen', 'forgive', 'forgotten', 'form', 'formed', 'forming', 'forward', 'fostered', 'found', 'foundations', 'fragment', 'fragments', 'frame', 'frames', 'frequently', 'friend', 'from', 'full', 'fullest', 'furiously', 'furrowed', 'garlanded', 'garlands', 'gave', 'genial', 'genius', 'gesture', 'get', 'getting', 'give', 'given', 'glad', 'glanced', 'glimpse', 'gloried', 'glory', 'go', 'going', 'gone', 'good', 'good-breeding', 'good-humoured', 'got', 'grace', 'gradually', 'gray', 'grayish', 'great', 'greatest', 'greatness', 'grew', 'groping', 'growing', 'had', 'hadn', 'hair', 'half', 'half-light', 'half-mechanically', 'hall', 'hand', 'hands', 'handsome', 'hanging', 'happen', 'happened', 'hard', 'hardly', 'has', 'have', 'haven', 'having', 'he', 'head', 'hear', 'heard', 'heart', 'height', 'her', 'here', 'hermit', 'herself', 'hesitations', 'hide', 'high', 'him', 'himself', 'hint', 'his', 'history', 'holding', 'home', 'honour', 'hooded', 'hostess', 'hot-house', 'hour', 'hours', 'house', 'how', 'hung', 'husband', 'idea', 'idle', 'idling', 'if', 'immediately', 'in', 'incense', 'indifferent', 'inevitable', 'inevitably', 'inflexible', 'insensible', 'insignificant', 'instinctively', 'instructive', 'interesting', 'into', 'ironic', 'irony', 'irrelevance', 'irrevocable', 'is', 'it', 'its', 'itself', 'jardiniere', 'jealousy', 'just', 'keep', 'kept', 'kind', 'knees', 'knew', 'know', 'known', 'laid', 'lair', 'landing', 'language', 'last', 'late', 'later', 'latter', 'laugh', 'laughed', 'lay', 'leading', 'lean', 'learned', 'least', 'leathery', 'leave', 'led', 'left', 'leisure', 'lends', 'lent', 'let', 'lies', 'life', 'life-likeness', 'lift', 'lifted', 'light', 'lightly', 'like', 'liked', 'line', 'lines', 'lingered', 'lips', 'lit', 'little', 'live', 'll', 'loathing', 'long', 'longed', 'longer', 'look', 'looked', 'looking', 'lose', 'loss', 'lounging', 'lovely', 'lucky', 'lump', 'luncheon-table', 'luxury', 'lying', 'made', 'make', 'man', 'manage', 'managed', 'mantel-piece', 'marble', 'married', 'may', 'me', 'meant', 'mediocrity', 'medium', 'mentioned', 'mere', 'merely', 'met', 'might', 'mighty', 'millionaire', 'mine', 'minute', 'minutes', 'mirrors', 'modest', 'modesty', 'moment', 'money', 'monumental', 'mood', 'morbidly', 'more', 'most', 'mourn', 'mourned', 'moustache', 'moved', 'much', 'muddling', 'multiplied', 'murmur', 'muscles', 'must', 'my', 'myself', 'mysterious', 'naive', 'near', 'nearly', 'negatived', 'nervous', 'nervousness', 'neutral', 'never', 'next', 'no', 'none', 'not', 'note', 'nothing', 'now', 'nymphs', 'oak', 'obituary', 'object', 'objects', 'occurred', 'oddly', 'of', 'off', 'often', 'oh', 'old', 'on', 'once', 'one', 'ones', 'only', 'onto', 'open', 'or', 'other', 'our', 'ourselves', 'out', 'outline', 'oval', 'over', 'own', 'packed', 'paid', 'paint', 'painted', 'painter', 'painting', 'pale', 'paled', 'palm-trees', 'panel', 'panelling', 'pardonable', 'pardoned', 'part', 'passages', 'passing', 'past', 'pastels', 'pathos', 'patient', 'people', 'perceptible', 'perfect', 'persistence', 'persuasively', 'phrase', 'picture', 'pictures', 'pines', 'pink', 'place', 'placed', 'plain', 'platitudes', 'pleased', 'pockets', 'point', 'poised', 'poor', 'portrait', 'posing', 'possessed', 'poverty', 'predicted', 'preliminary', 'presenting', 'prestidigitation', 'pretty', 'previous', 'price', 'pride', 'princely', 'prism', 'problem', 'proclaiming', 'prodigious', 'profusion', 'protest', 'prove', 'public', 'purblind', 'purely', 'pushed', 'put', 'qualities', 'quality', 'queerly', 'question', 'quickly', 'quietly', 'quite', 'quote', 'rain', 'raised', 'random', 'rather', 're', 'real', 'really', 'reared', 'reason', 'reassurance', 'recovering', 'recreated', 'reflected', 'reflection', 'regrets', 'relatively', 'remained', 'remember', 'reminded', 'repeating', 'represented', 'reproduction', 'resented', 'resolve', 'resources', 'rest', 'rich', 'ridiculous', 'robbed', 'romantic', 'room', 'rose', 'rs', 'rule', 'run', 's', 'said', 'same', 'satisfaction', 'savour', 'saw', 'say', 'saying', 'says', 'scorn', 'scornful', 'secret', 'see', 'seemed', 'seen', 'self-confident', 'send', 'sensation', 'sensitive', 'sent', 'serious', 'set', 'sex', 'shade', 'shaking', 'shall', 'she', 'shirked', 'short', 'should', 'shoulder', 'shoulders', 'show', 'showed', 'showy', 'shrug', 'shrugged', 'sight', 'sign', 'silent', 'silver', 'similar', 'simpleton', 'simplifications', 'simply', 'since', 'single', 'sitter', 'sitters', 'sketch', 'skill', 'slight', 'slightly', 'slowly', 'small', 'smile', 'smiling', 'sneer', 'so', 'solace', 'some', 'somebody', 'something', 'spacious', 'spaniel', 'speaking-tubes', 'speculations', 'spite', 'splash', 'square', 'stairs', 'stammer', 'stand', 'standing', 'started', 'stay', 'still', 'stocked', 'stood', 'stopped', 'stopping', 'straddling', 'straight', 'strain', 'straining', 'strange', 'straw', 'stream', 'stroke', 'strokes', 'strolled', 'strongest', 'strongly', 'struck', 'studio', 'stuff', 'subject', 'substantial', 'suburban', 'such', 'suddenly', 'suffered', 'sugar', 'suggested', 'sunburn', 'sunburnt', 'sunlit', 'superb', 'sure', 'surest', 'surface', 'surprise', 'surprised', 'surrounded', 'suspected', 'sweetly', 'sweetness', 'swelling', 'swept', 'swum', 't', 'table', 'take', 'taken', 'talking', 'tea', 'tears', 'technicalities', 'technique', 'tell', 'tells', 'tempting', 'terra-cotta', 'terrace', 'terraces', 'terribly', 'than', 'that', 'the', 'their', 'them', 'then', 'there', 'therefore', 'they', 'thin', 'thing', 'things', 'think', 'this', 'thither', 'those', 'though', 'thought', 'three', 'threshold', 'threw', 'through', 'throwing', 'tie', 'till', 'time', 'timorously', 'tinge', 'tips', 'tired', 'to', 'told', 'tone', 'tones', 'too', 'took', 'tottering', 'touched', 'toward', 'trace', 'trade', 'transmute', 'traps', 'travelled', 'tribute', 'tributes', 'tricks', 'tried', 'trouser-presses', 'true', 'truth', 'turned', 'twenty', 'twenty-four', 'twice', 'twirling', 'unaccountable', 'uncertain', 'under', 'underlay', 'underneath', 'understand', 'unexpected', 'untouched', 'unusual', 'up', 'up-stream', 'upon', 'upset', 'upstairs', 'us', 'used', 'usual', 'value', 'varnishing', 'vases', 've', 'veins', 'velveteen', 'very', 'villa', 'vindicated', 'virtuosity', 'vista', 'vocation', 'voice', 'wall', 'wander', 'want', 'wanted', 'wants', 'was', 'wasn', 'watched', 'watching', 'water-colour', 'waves', 'way', 'weekly', 'weeks', 'welcome', 'went', 'were', 'what', 'when', 'whenever', 'where', 'which', 'while', 'white', 'white-panelled', 'who', 'whole', 'whom', 'why', 'wide', 'widow', 'wife', 'wild', 'wincing', 'window-curtains', 'wish', 'with', 'without', 'wits', 'woman', 'women', 'won', 'wonder', 'wondered', 'word', 'work', 'working', 'worth', 'would', 'wouldn', 'year', 'years', 'yellow', 'yet', 'you', 'younger', 'your', 'yourself']\n",
      "1130\n"
     ]
    }
   ],
   "source": [
    "all_words = sorted(set(preprocessed))\n",
    "print(all_words)\n",
    "vocab_size = len(all_words)\n",
    "\n",
    "print(vocab_size)"
   ]
  },
  {
   "cell_type": "code",
   "execution_count": 39,
   "id": "77d00d96-881f-4691-bb03-84fec2a75a26",
   "metadata": {},
   "outputs": [],
   "source": [
    "vocab = {token:integer for integer,token in enumerate(all_words)}"
   ]
  },
  {
   "cell_type": "markdown",
   "id": "75bd1f81-3a8f-4dd9-9dd6-e75f32dacbe3",
   "metadata": {},
   "source": [
    "- Below are the first 50 entries in this vocabulary:"
   ]
  },
  {
   "cell_type": "code",
   "execution_count": 32,
   "id": "e1c5de4a-aa4e-4aec-b532-10bb364039d6",
   "metadata": {},
   "outputs": [
    {
     "name": "stdout",
     "output_type": "stream",
     "text": [
      "('!', 0)\n",
      "('\"', 1)\n",
      "(\"'\", 2)\n",
      "('(', 3)\n",
      "(')', 4)\n",
      "(',', 5)\n",
      "('--', 6)\n",
      "('.', 7)\n",
      "(':', 8)\n",
      "(';', 9)\n",
      "('?', 10)\n",
      "('A', 11)\n",
      "('Ah', 12)\n",
      "('Among', 13)\n",
      "('And', 14)\n",
      "('Are', 15)\n",
      "('Arrt', 16)\n",
      "('As', 17)\n",
      "('At', 18)\n",
      "('Be', 19)\n",
      "('Begin', 20)\n",
      "('Burlington', 21)\n",
      "('But', 22)\n",
      "('By', 23)\n",
      "('Carlo', 24)\n",
      "('Chicago', 25)\n",
      "('Claude', 26)\n",
      "('Come', 27)\n",
      "('Croft', 28)\n",
      "('Destroyed', 29)\n",
      "('Devonshire', 30)\n",
      "('Don', 31)\n",
      "('Dubarry', 32)\n",
      "('Emperors', 33)\n",
      "('Florence', 34)\n",
      "('For', 35)\n",
      "('Gallery', 36)\n",
      "('Gideon', 37)\n",
      "('Gisburn', 38)\n",
      "('Gisburns', 39)\n",
      "('Grafton', 40)\n",
      "('Greek', 41)\n",
      "('Grindle', 42)\n",
      "('Grindles', 43)\n",
      "('HAD', 44)\n",
      "('Had', 45)\n",
      "('Hang', 46)\n",
      "('Has', 47)\n",
      "('He', 48)\n",
      "('Her', 49)\n",
      "('Hermia', 50)\n"
     ]
    }
   ],
   "source": [
    "for i, item in enumerate(vocab.items()):\n",
    "    print(item)\n",
    "    if i >= 50:\n",
    "        break"
   ]
  },
  {
   "cell_type": "markdown",
   "id": "3b1dc314-351b-476a-9459-0ec9ddc29b19",
   "metadata": {},
   "source": [
    "- Below, we illustrate the tokenization of a short sample text using a small vocabulary:"
   ]
  },
  {
   "cell_type": "markdown",
   "id": "67407a9f-0202-4e7c-9ed7-1b3154191ebc",
   "metadata": {},
   "source": [
    "<img src=\"https://sebastianraschka.com/images/LLMs-from-scratch-images/ch02_compressed/07.webp?123\" width=\"500px\">"
   ]
  },
  {
   "cell_type": "markdown",
   "id": "4e569647-2589-4c9d-9a5c-aef1c88a0a9a",
   "metadata": {},
   "source": [
    "- Putting it now all together into a tokenizer class"
   ]
  },
  {
   "cell_type": "code",
   "execution_count": 33,
   "id": "f531bf46-7c25-4ef8-bff8-0d27518676d5",
   "metadata": {},
   "outputs": [],
   "source": [
    "# class SimpleTokenizerV1:\n",
    "#     def __init__(self, vocab):\n",
    "#         self.str_to_int = vocab\n",
    "#         self.int_to_str = {i:s for s,i in vocab.items()}\n",
    "    \n",
    "#     def encode(self, text):\n",
    "#         preprocessed = re.split(r'([,.:;?_!\"()\\']|--|\\s)', text)\n",
    "                                \n",
    "#         preprocessed = [\n",
    "#             item.strip() for item in preprocessed if item.strip()\n",
    "#         ]\n",
    "#         ids = [self.str_to_int[s] for s in preprocessed]\n",
    "#         return ids\n",
    "        \n",
    "#     def decode(self, ids):\n",
    "#         text = \" \".join([self.int_to_str[i] for i in ids])\n",
    "#         # Replace spaces before the specified punctuations\n",
    "#         text = re.sub(r'\\s+([,.?!\"()\\'])', r'\\1', text)\n",
    "#         return text"
   ]
  },
  {
   "cell_type": "code",
   "execution_count": null,
   "id": "0bfaa309",
   "metadata": {},
   "outputs": [],
   "source": [
    "class SimpleTokenizerV1:\n",
    "    def __init__(self, vocab):\n",
    "        self.str_to_int = vocab\n",
    "        self.int_to_str = {i:token for token, i in vocab.items()} \n",
    "\n",
    "    def encode(self, text):\n",
    "        preprocessed = re.split(r'([,.:;?_!\"()\\']|--|\\s)', text)\n",
    "        preprocessed = [\n",
    "            item.strip() for item in preprocessed if item.strip()\n",
    "        ]\n",
    "        ids = [self.str_to_int[s] for s in preprocessed]\n",
    "        return ids\n",
    "    \n",
    "    def decode(self, ids):\n",
    "        text = \" \".join(self.int_to_str[i] for i in ids)\n",
    "        # Replace spaces before the specified punctuations\n",
    "        text = re.sub(r'\\s+([,.?!\"()\\'])', r'\\1', text)\n",
    "        return text"
   ]
  },
  {
   "cell_type": "markdown",
   "id": "dee7a1e5-b54f-4ca1-87ef-3d663c4ee1e7",
   "metadata": {},
   "source": [
    "- The `encode` function turns text into token IDs\n",
    "- The `decode` function turns token IDs back into text"
   ]
  },
  {
   "cell_type": "markdown",
   "id": "cc21d347-ec03-4823-b3d4-9d686e495617",
   "metadata": {},
   "source": [
    "<img src=\"https://sebastianraschka.com/images/LLMs-from-scratch-images/ch02_compressed/08.webp?123\" width=\"500px\">"
   ]
  },
  {
   "cell_type": "markdown",
   "id": "c2950a94-6b0d-474e-8ed0-66d0c3c1a95c",
   "metadata": {},
   "source": [
    "- We can use the tokenizer to encode (that is, tokenize) texts into integers\n",
    "- These integers can then be embedded (later) as input of/for the LLM"
   ]
  },
  {
   "cell_type": "code",
   "execution_count": 35,
   "id": "647364ec-7995-4654-9b4a-7607ccf5f1e4",
   "metadata": {},
   "outputs": [
    {
     "name": "stdout",
     "output_type": "stream",
     "text": [
      "[1, 56, 2, 850, 988, 602, 533, 746, 5, 1126, 596, 5, 1, 67, 7, 38, 851, 1108, 754, 793, 7]\n",
      "[1, 56, 2, 850, 988, 602, 533, 746, 5, 1126, 596, 5, 1, 67, 7, 38, 851, 1108, 754, 793, 7]\n"
     ]
    }
   ],
   "source": [
    "tokenizer = SimpleTokenizerV1(vocab)\n",
    "\n",
    "text = \"\"\"\"It's the last he painted, you know,\" \n",
    "           Mrs. Gisburn said with pardonable pride.\"\"\"\n",
    "ids = tokenizer.encode(text)\n",
    "print(ids)"
   ]
  },
  {
   "cell_type": "markdown",
   "id": "3201706e-a487-4b60-b99d-5765865f29a0",
   "metadata": {},
   "source": [
    "- We can decode the integers back into text"
   ]
  },
  {
   "cell_type": "code",
   "execution_count": 36,
   "id": "01d8c8fb-432d-4a49-b332-99f23b233746",
   "metadata": {},
   "outputs": [
    {
     "data": {
      "text/plain": [
       "'\" It\\' s the last he painted, you know,\" Mrs. Gisburn said with pardonable pride.'"
      ]
     },
     "execution_count": 36,
     "metadata": {},
     "output_type": "execute_result"
    }
   ],
   "source": [
    "tokenizer.decode(ids)"
   ]
  },
  {
   "cell_type": "code",
   "execution_count": 37,
   "id": "54f6aa8b-9827-412e-9035-e827296ab0fe",
   "metadata": {},
   "outputs": [
    {
     "name": "stdout",
     "output_type": "stream",
     "text": [
      "[1, 56, 2, 850, 988, 602, 533, 746, 5, 1126, 596, 5, 1, 67, 7, 38, 851, 1108, 754, 793, 7]\n"
     ]
    },
    {
     "data": {
      "text/plain": [
       "'\" It\\' s the last he painted, you know,\" Mrs. Gisburn said with pardonable pride.'"
      ]
     },
     "execution_count": 37,
     "metadata": {},
     "output_type": "execute_result"
    }
   ],
   "source": [
    "tokenizer.decode(tokenizer.encode(text))"
   ]
  },
  {
   "cell_type": "markdown",
   "id": "4b821ef8-4d53-43b6-a2b2-aef808c343c7",
   "metadata": {},
   "source": [
    "## 2.4 Adding special context tokens"
   ]
  },
  {
   "cell_type": "markdown",
   "id": "863d6d15-a3e2-44e0-b384-bb37f17cf443",
   "metadata": {},
   "source": [
    "- It's useful to add some \"special\" tokens for unknown words and to denote the end of a text"
   ]
  },
  {
   "cell_type": "markdown",
   "id": "aa7fc96c-e1fd-44fb-b7f5-229d7c7922a4",
   "metadata": {},
   "source": [
    "<img src=\"https://sebastianraschka.com/images/LLMs-from-scratch-images/ch02_compressed/09.webp?123\" width=\"500px\">"
   ]
  },
  {
   "cell_type": "markdown",
   "id": "9d709d57-2486-4152-b7f9-d3e4bd8634cd",
   "metadata": {},
   "source": [
    "- Some tokenizers use special tokens to help the LLM with additional context\n",
    "- Some of these special tokens are\n",
    "  - `[BOS]` (beginning of sequence) marks the beginning of text\n",
    "  - `[EOS]` (end of sequence) marks where the text ends (this is usually used to concatenate multiple unrelated texts, e.g., two different Wikipedia articles or two different books, and so on)\n",
    "  - `[PAD]` (padding) if we train LLMs with a batch size greater than 1 (we may include multiple texts with different lengths; with the padding token we pad the shorter texts to the longest length so that all texts have an equal length)\n",
    "- `[UNK]` to represent words that are not included in the vocabulary\n",
    "\n",
    "- Note that GPT-2 does not need any of these tokens mentioned above but only uses an `<|endoftext|>` token to reduce complexity\n",
    "- The `<|endoftext|>` is analogous to the `[EOS]` token mentioned above\n",
    "- GPT also uses the `<|endoftext|>` for padding (since we typically use a mask when training on batched inputs, we would not attend padded tokens anyways, so it does not matter what these tokens are)\n",
    "- GPT-2 does not use an `<UNK>` token for out-of-vocabulary words; instead, GPT-2 uses a byte-pair encoding (BPE) tokenizer, which breaks down words into subword units which we will discuss in a later section\n",
    "\n"
   ]
  },
  {
   "cell_type": "markdown",
   "id": "a336b43b-7173-49e7-bd80-527ad4efb271",
   "metadata": {},
   "source": [
    "- We use the `<|endoftext|>` tokens between two independent sources of text:"
   ]
  },
  {
   "cell_type": "markdown",
   "id": "52442951-752c-4855-9752-b121a17fef55",
   "metadata": {},
   "source": [
    "<img src=\"https://sebastianraschka.com/images/LLMs-from-scratch-images/ch02_compressed/10.webp\" width=\"500px\">"
   ]
  },
  {
   "cell_type": "markdown",
   "id": "c661a397-da06-4a86-ac27-072dbe7cb172",
   "metadata": {},
   "source": [
    "- Let's see what happens if we tokenize the following text:"
   ]
  },
  {
   "cell_type": "code",
   "execution_count": 41,
   "id": "d5767eff-440c-4de1-9289-f789349d6b85",
   "metadata": {},
   "outputs": [
    {
     "ename": "KeyError",
     "evalue": "'Hello'",
     "output_type": "error",
     "traceback": [
      "\u001b[0;31m---------------------------------------------------------------------------\u001b[0m",
      "\u001b[0;31mKeyError\u001b[0m                                  Traceback (most recent call last)",
      "Cell \u001b[0;32mIn[41], line 5\u001b[0m\n\u001b[1;32m      1\u001b[0m tokenizer \u001b[38;5;241m=\u001b[39m SimpleTokenizerV1(vocab)\n\u001b[1;32m      3\u001b[0m text \u001b[38;5;241m=\u001b[39m \u001b[38;5;124m\"\u001b[39m\u001b[38;5;124mHello, do you like tea. Is this-- a test?\u001b[39m\u001b[38;5;124m\"\u001b[39m\n\u001b[0;32m----> 5\u001b[0m \u001b[43mtokenizer\u001b[49m\u001b[38;5;241;43m.\u001b[39;49m\u001b[43mencode\u001b[49m\u001b[43m(\u001b[49m\u001b[43mtext\u001b[49m\u001b[43m)\u001b[49m\n",
      "Cell \u001b[0;32mIn[34], line 11\u001b[0m, in \u001b[0;36mSimpleTokenizerV1.encode\u001b[0;34m(self, text)\u001b[0m\n\u001b[1;32m      7\u001b[0m preprocessed \u001b[38;5;241m=\u001b[39m re\u001b[38;5;241m.\u001b[39msplit(\u001b[38;5;124mr\u001b[39m\u001b[38;5;124m'\u001b[39m\u001b[38;5;124m([,.:;?_!\u001b[39m\u001b[38;5;124m\"\u001b[39m\u001b[38;5;124m()\u001b[39m\u001b[38;5;130;01m\\'\u001b[39;00m\u001b[38;5;124m]|--|\u001b[39m\u001b[38;5;124m\\\u001b[39m\u001b[38;5;124ms)\u001b[39m\u001b[38;5;124m'\u001b[39m, text)\n\u001b[1;32m      8\u001b[0m preprocessed \u001b[38;5;241m=\u001b[39m [\n\u001b[1;32m      9\u001b[0m     item\u001b[38;5;241m.\u001b[39mstrip() \u001b[38;5;28;01mfor\u001b[39;00m item \u001b[38;5;129;01min\u001b[39;00m preprocessed \u001b[38;5;28;01mif\u001b[39;00m item\u001b[38;5;241m.\u001b[39mstrip()\n\u001b[1;32m     10\u001b[0m ]\n\u001b[0;32m---> 11\u001b[0m ids \u001b[38;5;241m=\u001b[39m \u001b[43m[\u001b[49m\u001b[38;5;28;43mself\u001b[39;49m\u001b[38;5;241;43m.\u001b[39;49m\u001b[43mstr_to_int\u001b[49m\u001b[43m[\u001b[49m\u001b[43ms\u001b[49m\u001b[43m]\u001b[49m\u001b[43m \u001b[49m\u001b[38;5;28;43;01mfor\u001b[39;49;00m\u001b[43m \u001b[49m\u001b[43ms\u001b[49m\u001b[43m \u001b[49m\u001b[38;5;129;43;01min\u001b[39;49;00m\u001b[43m \u001b[49m\u001b[43mpreprocessed\u001b[49m\u001b[43m]\u001b[49m\n\u001b[1;32m     12\u001b[0m \u001b[38;5;28mprint\u001b[39m(ids)\n\u001b[1;32m     13\u001b[0m \u001b[38;5;28;01mreturn\u001b[39;00m ids\n",
      "Cell \u001b[0;32mIn[34], line 11\u001b[0m, in \u001b[0;36m<listcomp>\u001b[0;34m(.0)\u001b[0m\n\u001b[1;32m      7\u001b[0m preprocessed \u001b[38;5;241m=\u001b[39m re\u001b[38;5;241m.\u001b[39msplit(\u001b[38;5;124mr\u001b[39m\u001b[38;5;124m'\u001b[39m\u001b[38;5;124m([,.:;?_!\u001b[39m\u001b[38;5;124m\"\u001b[39m\u001b[38;5;124m()\u001b[39m\u001b[38;5;130;01m\\'\u001b[39;00m\u001b[38;5;124m]|--|\u001b[39m\u001b[38;5;124m\\\u001b[39m\u001b[38;5;124ms)\u001b[39m\u001b[38;5;124m'\u001b[39m, text)\n\u001b[1;32m      8\u001b[0m preprocessed \u001b[38;5;241m=\u001b[39m [\n\u001b[1;32m      9\u001b[0m     item\u001b[38;5;241m.\u001b[39mstrip() \u001b[38;5;28;01mfor\u001b[39;00m item \u001b[38;5;129;01min\u001b[39;00m preprocessed \u001b[38;5;28;01mif\u001b[39;00m item\u001b[38;5;241m.\u001b[39mstrip()\n\u001b[1;32m     10\u001b[0m ]\n\u001b[0;32m---> 11\u001b[0m ids \u001b[38;5;241m=\u001b[39m [\u001b[38;5;28;43mself\u001b[39;49m\u001b[38;5;241;43m.\u001b[39;49m\u001b[43mstr_to_int\u001b[49m\u001b[43m[\u001b[49m\u001b[43ms\u001b[49m\u001b[43m]\u001b[49m \u001b[38;5;28;01mfor\u001b[39;00m s \u001b[38;5;129;01min\u001b[39;00m preprocessed]\n\u001b[1;32m     12\u001b[0m \u001b[38;5;28mprint\u001b[39m(ids)\n\u001b[1;32m     13\u001b[0m \u001b[38;5;28;01mreturn\u001b[39;00m ids\n",
      "\u001b[0;31mKeyError\u001b[0m: 'Hello'"
     ]
    }
   ],
   "source": [
    "tokenizer = SimpleTokenizerV1(vocab)\n",
    "\n",
    "text = \"Hello, do you like tea. Is this-- a test?\"\n",
    "\n",
    "tokenizer.encode(text)"
   ]
  },
  {
   "cell_type": "markdown",
   "id": "dc53ee0c-fe2b-4cd8-a946-5471f7651acf",
   "metadata": {},
   "source": [
    "- The above produces an error because the word \"Hello\" is not contained in the vocabulary\n",
    "- To deal with such cases, we can add special tokens like `\"<|unk|>\"` to the vocabulary to represent unknown words\n",
    "- Since we are already extending the vocabulary, let's add another token called `\"<|endoftext|>\"` which is used in GPT-2 training to denote the end of a text (and it's also used between concatenated text, like if our training datasets consists of multiple articles, books, etc.)"
   ]
  },
  {
   "cell_type": "code",
   "execution_count": 42,
   "id": "ce9df29c-6c5b-43f1-8c1a-c7f7b79db78f",
   "metadata": {},
   "outputs": [],
   "source": [
    "all_tokens = sorted(list(set(preprocessed)))\n",
    "all_tokens.extend([\"<|endoftext|>\", \"<|unk|>\"])\n",
    "\n",
    "vocab = {token:integer for integer,token in enumerate(all_tokens)}"
   ]
  },
  {
   "cell_type": "code",
   "execution_count": 43,
   "id": "57c3143b-e860-4d3b-a22a-de22b547a6a9",
   "metadata": {},
   "outputs": [
    {
     "data": {
      "text/plain": [
       "1132"
      ]
     },
     "execution_count": 43,
     "metadata": {},
     "output_type": "execute_result"
    }
   ],
   "source": [
    "len(vocab.items())"
   ]
  },
  {
   "cell_type": "code",
   "execution_count": 44,
   "id": "50e51bb1-ae05-4aa8-a9ff-455b65ed1959",
   "metadata": {},
   "outputs": [
    {
     "name": "stdout",
     "output_type": "stream",
     "text": [
      "('younger', 1127)\n",
      "('your', 1128)\n",
      "('yourself', 1129)\n",
      "('<|endoftext|>', 1130)\n",
      "('<|unk|>', 1131)\n"
     ]
    }
   ],
   "source": [
    "for i, item in enumerate(list(vocab.items())[-5:]):\n",
    "    print(item)"
   ]
  },
  {
   "cell_type": "markdown",
   "id": "a1daa2b0-6e75-412b-ab53-1f6fb7b4d453",
   "metadata": {},
   "source": [
    "- We also need to adjust the tokenizer accordingly so that it knows when and how to use the new `<unk>` token"
   ]
  },
  {
   "cell_type": "code",
   "execution_count": null,
   "id": "948861c5-3f30-4712-a234-725f20d26f68",
   "metadata": {},
   "outputs": [],
   "source": [
    "class SimpleTokenizerV2:\n",
    "    def __init__(self, vocab):\n",
    "        self.str_to_int = vocab\n",
    "        self.int_to_str = { i:s for s,i in vocab.items()}\n",
    "    \n",
    "    def encode(self, text):\n",
    "        preprocessed = re.split(r'([,.:;?_!\"()\\']|--|\\s)', text)\n",
    "        preprocessed = [item.strip() for item in preprocessed if item.strip()]\n",
    "        preprocessed = [\n",
    "            item if item in self.str_to_int \n",
    "            else \"<|unk|>\" for item in preprocessed\n",
    "        ]\n",
    "\n",
    "        ids = [self.str_to_int[s] for s in preprocessed]\n",
    "        return ids\n",
    "        \n",
    "    def decode(self, ids):\n",
    "        text = \" \".join([self.int_to_str[i] for i in ids])\n",
    "        # Replace spaces before the specified punctuations\n",
    "        text = re.sub(r'\\s+([,.:;?!\"()\\'])', r'\\1', text)\n",
    "        return text"
   ]
  },
  {
   "cell_type": "markdown",
   "id": "aa728dd1-9d35-4ac7-938f-d411d73083f6",
   "metadata": {},
   "source": [
    "Let's try to tokenize text with the modified tokenizer:"
   ]
  },
  {
   "cell_type": "code",
   "execution_count": null,
   "id": "4133c502-18ac-4412-9f43-01caf4efa3dc",
   "metadata": {},
   "outputs": [],
   "source": [
    "tokenizer = SimpleTokenizerV2(vocab)\n",
    "\n",
    "text1 = \"Hello, do you like tea?\"\n",
    "text2 = \"In the sunlit terraces of the palace.\"\n",
    "\n",
    "text = \" <|endoftext|> \".join((text1, text2))\n",
    "\n",
    "print(text)"
   ]
  },
  {
   "cell_type": "code",
   "execution_count": null,
   "id": "7ed395fe-dc1b-4ed2-b85b-457cc35aab60",
   "metadata": {},
   "outputs": [],
   "source": [
    "tokenizer.encode(text)"
   ]
  },
  {
   "cell_type": "code",
   "execution_count": null,
   "id": "059367f9-7a60-4c0d-8a00-7c4c766d0ebc",
   "metadata": {},
   "outputs": [],
   "source": [
    "tokenizer.decode(tokenizer.encode(text))"
   ]
  },
  {
   "cell_type": "markdown",
   "id": "5c4ba34b-170f-4e71-939b-77aabb776f14",
   "metadata": {},
   "source": [
    "## 2.5 BytePair encoding"
   ]
  },
  {
   "cell_type": "markdown",
   "id": "2309494c-79cf-4a2d-bc28-a94d602f050e",
   "metadata": {},
   "source": [
    "- GPT-2 used BytePair encoding (BPE) as its tokenizer\n",
    "- it allows the model to break down words that aren't in its predefined vocabulary into smaller subword units or even individual characters, enabling it to handle out-of-vocabulary words\n",
    "- For instance, if GPT-2's vocabulary doesn't have the word \"unfamiliarword,\" it might tokenize it as [\"unfam\", \"iliar\", \"word\"] or some other subword breakdown, depending on its trained BPE merges\n",
    "- The original BPE tokenizer can be found here: [https://github.com/openai/gpt-2/blob/master/src/encoder.py](https://github.com/openai/gpt-2/blob/master/src/encoder.py)\n",
    "- In this chapter, we are using the BPE tokenizer from OpenAI's open-source [tiktoken](https://github.com/openai/tiktoken) library, which implements its core algorithms in Rust to improve computational performance\n",
    "- I created a notebook in the [./bytepair_encoder](../02_bonus_bytepair-encoder) that compares these two implementations side-by-side (tiktoken was about 5x faster on the sample text)"
   ]
  },
  {
   "cell_type": "code",
   "execution_count": null,
   "id": "ede1d41f-934b-4bf4-8184-54394a257a94",
   "metadata": {},
   "outputs": [],
   "source": [
    "# pip install tiktoken"
   ]
  },
  {
   "cell_type": "code",
   "execution_count": null,
   "id": "48967a77-7d17-42bf-9e92-fc619d63a59e",
   "metadata": {},
   "outputs": [],
   "source": [
    "import importlib\n",
    "import tiktoken\n",
    "\n",
    "print(\"tiktoken version:\", importlib.metadata.version(\"tiktoken\"))"
   ]
  },
  {
   "cell_type": "code",
   "execution_count": null,
   "id": "6ad3312f-a5f7-4efc-9d7d-8ea09d7b5128",
   "metadata": {},
   "outputs": [],
   "source": [
    "tokenizer = tiktoken.get_encoding(\"gpt2\")"
   ]
  },
  {
   "cell_type": "code",
   "execution_count": null,
   "id": "5ff2cd85-7cfb-4325-b390-219938589428",
   "metadata": {},
   "outputs": [],
   "source": [
    "text = (\n",
    "    \"Hello, do you like tea? <|endoftext|> In the sunlit terraces\"\n",
    "     \"of someunknownPlace.\"\n",
    ")\n",
    "\n",
    "integers = tokenizer.encode(text, allowed_special={\"<|endoftext|>\"})\n",
    "\n",
    "print(integers)"
   ]
  },
  {
   "cell_type": "code",
   "execution_count": null,
   "id": "d26a48bb-f82e-41a8-a955-a1c9cf9d50ab",
   "metadata": {},
   "outputs": [],
   "source": [
    "strings = tokenizer.decode(integers)\n",
    "\n",
    "print(strings)"
   ]
  },
  {
   "cell_type": "markdown",
   "id": "e8c2e7b4-6a22-42aa-8e4d-901f06378d4a",
   "metadata": {},
   "source": [
    "- BPE tokenizers break down unknown words into subwords and individual characters:"
   ]
  },
  {
   "cell_type": "markdown",
   "id": "c082d41f-33d7-4827-97d8-993d5a84bb3c",
   "metadata": {},
   "source": [
    "<img src=\"https://sebastianraschka.com/images/LLMs-from-scratch-images/ch02_compressed/11.webp\" width=\"300px\">"
   ]
  },
  {
   "cell_type": "markdown",
   "id": "abbd7c0d-70f8-4386-a114-907e96c950b0",
   "metadata": {},
   "source": [
    "## 2.6 Data sampling with a sliding window"
   ]
  },
  {
   "cell_type": "markdown",
   "id": "509d9826-6384-462e-aa8a-a7c73cd6aad0",
   "metadata": {},
   "source": [
    "- We train LLMs to generate one word at a time, so we want to prepare the training data accordingly where the next word in a sequence represents the target to predict:"
   ]
  },
  {
   "cell_type": "markdown",
   "id": "39fb44f4-0c43-4a6a-9c2f-9cf31452354c",
   "metadata": {},
   "source": [
    "<img src=\"https://sebastianraschka.com/images/LLMs-from-scratch-images/ch02_compressed/12.webp\" width=\"400px\">"
   ]
  },
  {
   "cell_type": "code",
   "execution_count": null,
   "id": "848d5ade-fd1f-46c3-9e31-1426e315c71b",
   "metadata": {},
   "outputs": [],
   "source": [
    "with open(\"the-verdict.txt\", \"r\", encoding=\"utf-8\") as f:\n",
    "    raw_text = f.read()\n",
    "\n",
    "enc_text = tokenizer.encode(raw_text)\n",
    "print(len(enc_text))"
   ]
  },
  {
   "cell_type": "markdown",
   "id": "cebd0657-5543-43ca-8011-2ae6bd0a5810",
   "metadata": {},
   "source": [
    "- For each text chunk, we want the inputs and targets\n",
    "- Since we want the model to predict the next word, the targets are the inputs shifted by one position to the right"
   ]
  },
  {
   "cell_type": "code",
   "execution_count": null,
   "id": "e84424a7-646d-45b6-99e3-80d15fb761f2",
   "metadata": {},
   "outputs": [],
   "source": [
    "enc_sample = enc_text[50:]"
   ]
  },
  {
   "cell_type": "code",
   "execution_count": null,
   "id": "dfbff852-a92f-48c8-a46d-143a0f109f40",
   "metadata": {},
   "outputs": [],
   "source": [
    "context_size = 4\n",
    "\n",
    "x = enc_sample[:context_size]\n",
    "y = enc_sample[1:context_size+1]\n",
    "\n",
    "print(f\"x: {x}\")\n",
    "print(f\"y:      {y}\")"
   ]
  },
  {
   "cell_type": "markdown",
   "id": "815014ef-62f7-4476-a6ad-66e20e42b7c3",
   "metadata": {},
   "source": [
    "- One by one, the prediction would look like as follows:"
   ]
  },
  {
   "cell_type": "code",
   "execution_count": null,
   "id": "d97b031e-ed55-409d-95f2-aeb38c6fe366",
   "metadata": {},
   "outputs": [],
   "source": [
    "for i in range(1, context_size+1):\n",
    "    context = enc_sample[:i]\n",
    "    desired = enc_sample[i]\n",
    "\n",
    "    print(context, \"---->\", desired)"
   ]
  },
  {
   "cell_type": "code",
   "execution_count": null,
   "id": "f57bd746-dcbf-4433-8e24-ee213a8c34a1",
   "metadata": {},
   "outputs": [],
   "source": [
    "for i in range(1, context_size+1):\n",
    "    context = enc_sample[:i]\n",
    "    desired = enc_sample[i]\n",
    "\n",
    "    print(tokenizer.decode(context), \"---->\", tokenizer.decode([desired]))"
   ]
  },
  {
   "cell_type": "markdown",
   "id": "210d2dd9-fc20-4927-8d3d-1466cf41aae1",
   "metadata": {},
   "source": [
    "- We will take care of the next-word prediction in a later chapter after we covered the attention mechanism\n",
    "- For now, we implement a simple data loader that iterates over the input dataset and returns the inputs and targets shifted by one"
   ]
  },
  {
   "cell_type": "markdown",
   "id": "a1a1b47a-f646-49d1-bc70-fddf2c840796",
   "metadata": {},
   "source": [
    "- Install and import PyTorch (see Appendix A for installation tips)"
   ]
  },
  {
   "cell_type": "code",
   "execution_count": null,
   "id": "e1770134-e7f3-4725-a679-e04c3be48cac",
   "metadata": {},
   "outputs": [],
   "source": [
    "import torch\n",
    "print(\"PyTorch version:\", torch.__version__)"
   ]
  },
  {
   "cell_type": "markdown",
   "id": "0c9a3d50-885b-49bc-b791-9f5cc8bc7b7c",
   "metadata": {},
   "source": [
    "- We use a sliding window approach, changing the position by +1:\n",
    "\n",
    "<img src=\"https://sebastianraschka.com/images/LLMs-from-scratch-images/ch02_compressed/13.webp?123\" width=\"500px\">"
   ]
  },
  {
   "cell_type": "markdown",
   "id": "92ac652d-7b38-4843-9fbd-494cdc8ec12c",
   "metadata": {},
   "source": [
    "- Create dataset and dataloader that extract chunks from the input text dataset"
   ]
  },
  {
   "cell_type": "code",
   "execution_count": null,
   "id": "74b41073-4c9f-46e2-a1bd-d38e4122b375",
   "metadata": {},
   "outputs": [],
   "source": [
    "from torch.utils.data import Dataset, DataLoader\n",
    "\n",
    "\n",
    "class GPTDatasetV1(Dataset):\n",
    "    def __init__(self, txt, tokenizer, max_length, stride):\n",
    "        self.input_ids = []\n",
    "        self.target_ids = []\n",
    "\n",
    "        # Tokenize the entire text\n",
    "        token_ids = tokenizer.encode(txt, allowed_special={\"<|endoftext|>\"})\n",
    "        assert len(token_ids) > max_length, \"Number of tokenized inputs must at least be equal to max_length+1\"\n",
    "\n",
    "        # Use a sliding window to chunk the book into overlapping sequences of max_length\n",
    "        for i in range(0, len(token_ids) - max_length, stride):\n",
    "            input_chunk = token_ids[i:i + max_length]\n",
    "            target_chunk = token_ids[i + 1: i + max_length + 1]\n",
    "            self.input_ids.append(torch.tensor(input_chunk))\n",
    "            self.target_ids.append(torch.tensor(target_chunk))\n",
    "\n",
    "    def __len__(self):\n",
    "        return len(self.input_ids)\n",
    "\n",
    "    def __getitem__(self, idx):\n",
    "        return self.input_ids[idx], self.target_ids[idx]"
   ]
  },
  {
   "cell_type": "code",
   "execution_count": null,
   "id": "5eb30ebe-97b3-43c5-9ff1-a97d621b3c4e",
   "metadata": {},
   "outputs": [],
   "source": [
    "def create_dataloader_v1(txt, batch_size=4, max_length=256, \n",
    "                         stride=128, shuffle=True, drop_last=True,\n",
    "                         num_workers=0):\n",
    "\n",
    "    # Initialize the tokenizer\n",
    "    tokenizer = tiktoken.get_encoding(\"gpt2\")\n",
    "\n",
    "    # Create dataset\n",
    "    dataset = GPTDatasetV1(txt, tokenizer, max_length, stride)\n",
    "\n",
    "    # Create dataloader\n",
    "    dataloader = DataLoader(\n",
    "        dataset,\n",
    "        batch_size=batch_size,\n",
    "        shuffle=shuffle,\n",
    "        drop_last=drop_last,\n",
    "        num_workers=num_workers\n",
    "    )\n",
    "\n",
    "    return dataloader"
   ]
  },
  {
   "cell_type": "markdown",
   "id": "42dd68ef-59f7-45ff-ba44-e311c899ddcd",
   "metadata": {},
   "source": [
    "- Let's test the dataloader with a batch size of 1 for an LLM with a context size of 4:"
   ]
  },
  {
   "cell_type": "code",
   "execution_count": null,
   "id": "df31d96c-6bfd-4564-a956-6192242d7579",
   "metadata": {},
   "outputs": [],
   "source": [
    "with open(\"the-verdict.txt\", \"r\", encoding=\"utf-8\") as f:\n",
    "    raw_text = f.read()"
   ]
  },
  {
   "cell_type": "code",
   "execution_count": null,
   "id": "9226d00c-ad9a-4949-a6e4-9afccfc7214f",
   "metadata": {},
   "outputs": [],
   "source": [
    "dataloader = create_dataloader_v1(\n",
    "    raw_text, batch_size=1, max_length=4, stride=1, shuffle=False\n",
    ")\n",
    "\n",
    "data_iter = iter(dataloader)\n",
    "first_batch = next(data_iter)\n",
    "print(first_batch)"
   ]
  },
  {
   "cell_type": "code",
   "execution_count": null,
   "id": "10deb4bc-4de1-4d20-921e-4b1c7a0e1a6d",
   "metadata": {},
   "outputs": [],
   "source": [
    "second_batch = next(data_iter)\n",
    "print(second_batch)"
   ]
  },
  {
   "cell_type": "markdown",
   "id": "b006212f-de45-468d-bdee-5806216d1679",
   "metadata": {},
   "source": [
    "- An example using stride equal to the context length (here: 4) as shown below:"
   ]
  },
  {
   "cell_type": "markdown",
   "id": "9cb467e0-bdcd-4dda-b9b0-a738c5d33ac3",
   "metadata": {},
   "source": [
    "<img src=\"https://sebastianraschka.com/images/LLMs-from-scratch-images/ch02_compressed/14.webp\" width=\"500px\">"
   ]
  },
  {
   "cell_type": "markdown",
   "id": "b1ae6d45-f26e-4b83-9c7b-cff55ffa7d16",
   "metadata": {},
   "source": [
    "- We can also create batched outputs\n",
    "- Note that we increase the stride here so that we don't have overlaps between the batches, since more overlap could lead to increased overfitting"
   ]
  },
  {
   "cell_type": "code",
   "execution_count": null,
   "id": "1916e7a6-f03d-4f09-91a6-d0bdbac5a58c",
   "metadata": {},
   "outputs": [],
   "source": [
    "dataloader = create_dataloader_v1(raw_text, batch_size=8, max_length=4, stride=4, shuffle=False)\n",
    "\n",
    "data_iter = iter(dataloader)\n",
    "inputs, targets = next(data_iter)\n",
    "print(\"Inputs:\\n\", inputs)\n",
    "print(\"\\nTargets:\\n\", targets)"
   ]
  },
  {
   "cell_type": "markdown",
   "id": "2cd2fcda-2fda-4aa8-8bc8-de1e496f9db1",
   "metadata": {},
   "source": [
    "## 2.7 Creating token embeddings"
   ]
  },
  {
   "cell_type": "markdown",
   "id": "1a301068-6ab2-44ff-a915-1ba11688274f",
   "metadata": {},
   "source": [
    "- The data is already almost ready for an LLM\n",
    "- But lastly let us embed the tokens in a continuous vector representation using an embedding layer\n",
    "- Usually, these embedding layers are part of the LLM itself and are updated (trained) during model training"
   ]
  },
  {
   "cell_type": "markdown",
   "id": "e85089aa-8671-4e5f-a2b3-ef252004ee4c",
   "metadata": {},
   "source": [
    "<img src=\"https://sebastianraschka.com/images/LLMs-from-scratch-images/ch02_compressed/15.webp\" width=\"400px\">"
   ]
  },
  {
   "cell_type": "markdown",
   "id": "44e014ca-1fc5-4b90-b6fa-c2097bb92c0b",
   "metadata": {},
   "source": [
    "- Suppose we have the following four input examples with input ids 2, 3, 5, and 1 (after tokenization):"
   ]
  },
  {
   "cell_type": "code",
   "execution_count": null,
   "id": "15a6304c-9474-4470-b85d-3991a49fa653",
   "metadata": {},
   "outputs": [],
   "source": [
    "input_ids = torch.tensor([2, 3, 5, 1])"
   ]
  },
  {
   "cell_type": "markdown",
   "id": "14da6344-2c71-4837-858d-dd120005ba05",
   "metadata": {},
   "source": [
    "- For the sake of simplicity, suppose we have a small vocabulary of only 6 words and we want to create embeddings of size 3:"
   ]
  },
  {
   "cell_type": "code",
   "execution_count": null,
   "id": "93cb2cee-9aa6-4bb8-8977-c65661d16eda",
   "metadata": {},
   "outputs": [],
   "source": [
    "vocab_size = 6\n",
    "output_dim = 3\n",
    "\n",
    "torch.manual_seed(123)\n",
    "embedding_layer = torch.nn.Embedding(vocab_size, output_dim)"
   ]
  },
  {
   "cell_type": "markdown",
   "id": "4ff241f6-78eb-4e4a-a55f-5b2b6196d5b0",
   "metadata": {},
   "source": [
    "- This would result in a 6x3 weight matrix:"
   ]
  },
  {
   "cell_type": "code",
   "execution_count": null,
   "id": "a686eb61-e737-4351-8f1c-222913d47468",
   "metadata": {},
   "outputs": [],
   "source": [
    "print(embedding_layer.weight)"
   ]
  },
  {
   "cell_type": "markdown",
   "id": "26fcf4f5-0801-4eb4-bb90-acce87935ac7",
   "metadata": {},
   "source": [
    "- For those who are familiar with one-hot encoding, the embedding layer approach above is essentially just a more efficient way of implementing one-hot encoding followed by matrix multiplication in a fully-connected layer, which is described in the supplementary code in [./embedding_vs_matmul](../03_bonus_embedding-vs-matmul)\n",
    "- Because the embedding layer is just a more efficient implementation that is equivalent to the one-hot encoding and matrix-multiplication approach it can be seen as a neural network layer that can be optimized via backpropagation"
   ]
  },
  {
   "cell_type": "markdown",
   "id": "4b0d58c3-83c0-4205-aca2-9c48b19fd4a7",
   "metadata": {},
   "source": [
    "- To convert a token with id 3 into a 3-dimensional vector, we do the following:"
   ]
  },
  {
   "cell_type": "code",
   "execution_count": null,
   "id": "e43600ba-f287-4746-8ddf-d0f71a9023ca",
   "metadata": {},
   "outputs": [],
   "source": [
    "print(embedding_layer(torch.tensor([3])))"
   ]
  },
  {
   "cell_type": "markdown",
   "id": "a7bbf625-4f36-491d-87b4-3969efb784b0",
   "metadata": {},
   "source": [
    "- Note that the above is the 4th row in the `embedding_layer` weight matrix\n",
    "- To embed all four `input_ids` values above, we do"
   ]
  },
  {
   "cell_type": "code",
   "execution_count": null,
   "id": "50280ead-0363-44c8-8c35-bb885d92c8b7",
   "metadata": {},
   "outputs": [],
   "source": [
    "print(embedding_layer(input_ids))"
   ]
  },
  {
   "cell_type": "markdown",
   "id": "be97ced4-bd13-42b7-866a-4d699a17e155",
   "metadata": {},
   "source": [
    "- An embedding layer is essentially a look-up operation:"
   ]
  },
  {
   "cell_type": "markdown",
   "id": "f33c2741-bf1b-4c60-b7fd-61409d556646",
   "metadata": {},
   "source": [
    "<img src=\"https://sebastianraschka.com/images/LLMs-from-scratch-images/ch02_compressed/16.webp?123\" width=\"500px\">"
   ]
  },
  {
   "cell_type": "markdown",
   "id": "08218d9f-aa1a-4afb-a105-72ff96a54e73",
   "metadata": {},
   "source": [
    "- **You may be interested in the bonus content comparing embedding layers with regular linear layers: [../03_bonus_embedding-vs-matmul](../03_bonus_embedding-vs-matmul)**"
   ]
  },
  {
   "cell_type": "markdown",
   "id": "c393d270-b950-4bc8-99ea-97d74f2ea0f6",
   "metadata": {},
   "source": [
    "## 2.8 Encoding word positions"
   ]
  },
  {
   "cell_type": "markdown",
   "id": "24940068-1099-4698-bdc0-e798515e2902",
   "metadata": {},
   "source": [
    "- Embedding layer convert IDs into identical vector representations regardless of where they are located in the input sequence:"
   ]
  },
  {
   "cell_type": "markdown",
   "id": "9e0b14a2-f3f3-490e-b513-f262dbcf94fa",
   "metadata": {},
   "source": [
    "<img src=\"https://sebastianraschka.com/images/LLMs-from-scratch-images/ch02_compressed/17.webp\" width=\"400px\">"
   ]
  },
  {
   "cell_type": "markdown",
   "id": "92a7d7fe-38a5-46e6-8db6-b688887b0430",
   "metadata": {},
   "source": [
    "- Positional embeddings are combined with the token embedding vector to form the input embeddings for a large language model:"
   ]
  },
  {
   "cell_type": "markdown",
   "id": "48de37db-d54d-45c4-ab3e-88c0783ad2e4",
   "metadata": {},
   "source": [
    "<img src=\"https://sebastianraschka.com/images/LLMs-from-scratch-images/ch02_compressed/18.webp\" width=\"500px\">"
   ]
  },
  {
   "cell_type": "markdown",
   "id": "7f187f87-c1f8-4c2e-8050-350bbb972f55",
   "metadata": {},
   "source": [
    "- The BytePair encoder has a vocabulary size of 50,257:\n",
    "- Suppose we want to encode the input tokens into a 256-dimensional vector representation:"
   ]
  },
  {
   "cell_type": "code",
   "execution_count": null,
   "id": "0b9e344d-03a6-4f2c-b723-67b6a20c5041",
   "metadata": {},
   "outputs": [],
   "source": [
    "vocab_size = 50257\n",
    "output_dim = 256\n",
    "\n",
    "token_embedding_layer = torch.nn.Embedding(vocab_size, output_dim)"
   ]
  },
  {
   "cell_type": "markdown",
   "id": "a2654722-24e4-4b0d-a43c-436a461eb70b",
   "metadata": {},
   "source": [
    "- If we sample data from the dataloader, we embed the tokens in each batch into a 256-dimensional vector\n",
    "- If we have a batch size of 8 with 4 tokens each, this results in a 8 x 4 x 256 tensor:"
   ]
  },
  {
   "cell_type": "code",
   "execution_count": null,
   "id": "ad56a263-3d2e-4d91-98bf-d0b68d3c7fc3",
   "metadata": {},
   "outputs": [],
   "source": [
    "max_length = 4\n",
    "dataloader = create_dataloader_v1(\n",
    "    raw_text, batch_size=8, max_length=max_length,\n",
    "    stride=max_length, shuffle=False\n",
    ")\n",
    "data_iter = iter(dataloader)\n",
    "inputs, targets = next(data_iter)"
   ]
  },
  {
   "cell_type": "code",
   "execution_count": null,
   "id": "84416b60-3707-4370-bcbc-da0b62f2b64d",
   "metadata": {},
   "outputs": [],
   "source": [
    "print(\"Token IDs:\\n\", inputs)\n",
    "print(\"\\nInputs shape:\\n\", inputs.shape)"
   ]
  },
  {
   "cell_type": "code",
   "execution_count": null,
   "id": "7766ec38-30d0-4128-8c31-f49f063c43d1",
   "metadata": {},
   "outputs": [],
   "source": [
    "token_embeddings = token_embedding_layer(inputs)\n",
    "print(token_embeddings.shape)\n",
    "\n",
    "# uncomment & execute the following line to see how the embeddings look like\n",
    "# print(token_embeddings)"
   ]
  },
  {
   "cell_type": "markdown",
   "id": "fe2ae164-6f19-4e32-b9e5-76950fcf1c9f",
   "metadata": {},
   "source": [
    "- GPT-2 uses absolute position embeddings, so we just create another embedding layer:"
   ]
  },
  {
   "cell_type": "code",
   "execution_count": null,
   "id": "cc048e20-7ac8-417e-81f5-8fe6f9a4fe07",
   "metadata": {},
   "outputs": [],
   "source": [
    "context_length = max_length\n",
    "pos_embedding_layer = torch.nn.Embedding(context_length, output_dim)\n",
    "\n",
    "# uncomment & execute the following line to see how the embedding layer weights look like\n",
    "# print(pos_embedding_layer.weight)"
   ]
  },
  {
   "cell_type": "code",
   "execution_count": null,
   "id": "c369a1e7-d566-4b53-b398-d6adafb44105",
   "metadata": {},
   "outputs": [],
   "source": [
    "pos_embeddings = pos_embedding_layer(torch.arange(max_length))\n",
    "print(pos_embeddings.shape)\n",
    "\n",
    "# uncomment & execute the following line to see how the embeddings look like\n",
    "# print(pos_embeddings)"
   ]
  },
  {
   "cell_type": "markdown",
   "id": "870e9d9f-2935-461a-9518-6d1386b976d6",
   "metadata": {},
   "source": [
    "- To create the input embeddings used in an LLM, we simply add the token and the positional embeddings:"
   ]
  },
  {
   "cell_type": "code",
   "execution_count": null,
   "id": "b22fab89-526e-43c8-9035-5b7018e34288",
   "metadata": {},
   "outputs": [],
   "source": [
    "input_embeddings = token_embeddings + pos_embeddings\n",
    "print(input_embeddings.shape)\n",
    "\n",
    "# uncomment & execute the following line to see how the embeddings look like\n",
    "# print(input_embeddings)"
   ]
  },
  {
   "cell_type": "markdown",
   "id": "1fbda581-6f9b-476f-8ea7-d244e6a4eaec",
   "metadata": {},
   "source": [
    "- In the initial phase of the input processing workflow, the input text is segmented into separate tokens\n",
    "- Following this segmentation, these tokens are transformed into token IDs based on a predefined vocabulary:"
   ]
  },
  {
   "cell_type": "markdown",
   "id": "d1bb0f7e-460d-44db-b366-096adcd84fff",
   "metadata": {},
   "source": [
    "<img src=\"https://sebastianraschka.com/images/LLMs-from-scratch-images/ch02_compressed/19.webp\" width=\"400px\">"
   ]
  },
  {
   "cell_type": "markdown",
   "id": "63230f2e-258f-4497-9e2e-8deee4530364",
   "metadata": {},
   "source": [
    "# Summary and takeaways"
   ]
  },
  {
   "cell_type": "markdown",
   "id": "8b3293a6-45a5-47cd-aa00-b23e3ca0a73f",
   "metadata": {},
   "source": [
    "See the [./dataloader.ipynb](./dataloader.ipynb) code notebook, which is a concise version of the data loader that we implemented in this chapter and will need for training the GPT model in upcoming chapters.\n",
    "\n",
    "See [./exercise-solutions.ipynb](./exercise-solutions.ipynb) for the exercise solutions.\n",
    "\n",
    "See the [Byte Pair Encoding (BPE) Tokenizer From Scratch](../02_bonus_bytepair-encoder/compare-bpe-tiktoken.ipynb) notebook if you are interested in learning how the GPT-2 tokenizer can be implemented and trained from scratch."
   ]
  }
 ],
 "metadata": {
  "kernelspec": {
   "display_name": "base",
   "language": "python",
   "name": "python3"
  },
  "language_info": {
   "codemirror_mode": {
    "name": "ipython",
    "version": 3
   },
   "file_extension": ".py",
   "mimetype": "text/x-python",
   "name": "python",
   "nbconvert_exporter": "python",
   "pygments_lexer": "ipython3",
   "version": "3.11.10"
  }
 },
 "nbformat": 4,
 "nbformat_minor": 5
}
